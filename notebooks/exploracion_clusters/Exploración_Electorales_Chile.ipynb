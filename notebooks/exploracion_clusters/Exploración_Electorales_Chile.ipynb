{
  "cells": [
    {
      "cell_type": "markdown",
      "metadata": {
        "id": "xpZ0JfX5InYz"
      },
      "source": [
        "# Análisis exploratorio - Censo 2017 Chile"
      ]
    },
    {
      "cell_type": "code",
      "execution_count": null,
      "metadata": {
        "id": "iixZkL3HInY2"
      },
      "outputs": [],
      "source": [
        "import pandas as pd\n",
        "import numpy as np\n",
        "import matplotlib.pyplot as plt\n",
        "import pyarrow.parquet as pq\n",
        "import pyarrow as pa\n",
        "from sklearn.linear_model import LinearRegression"
      ]
    },
    {
      "cell_type": "markdown",
      "metadata": {
        "id": "8YCTYSAxInY4"
      },
      "source": [
        "## Carga de base de datos\n",
        "\n",
        "La base de datos original viene comprimida en formato csv. Descomprimido el archivo pesa 2,5 GB, lo que hace muy pesada la carga. Para ello, primero la cargamos en su formato original, luego es transformada al formato .parquet con el paquete pyarrow"
      ]
    },
    {
      "cell_type": "markdown",
      "metadata": {
        "id": "bblGJumbInY4"
      },
      "source": [
        "### Datos originales"
      ]
    },
    {
      "cell_type": "code",
      "execution_count": null,
      "metadata": {
        "id": "t-SPhf1IInY5"
      },
      "outputs": [],
      "source": [
        "# Se carga el dataset total del censo en csv con chunks para facilitar procesamiento\n",
        "chunk_size = 5000\n",
        "\n",
        "chunky = pd.read_csv('C:/Users/benja/OneDrive - Instituto Nacional de Estadisticas/PAECIS/TIF/CENSO 17/Microdato_Censo2017-Personas.csv', sep=';', chunksize=chunk_size)"
      ]
    },
    {
      "cell_type": "code",
      "execution_count": null,
      "metadata": {
        "id": "cjn-FZWjInY5"
      },
      "outputs": [],
      "source": [
        "# se unen los chunks en una sola base\n",
        "censo_17 = pd.concat(chunky)"
      ]
    },
    {
      "cell_type": "code",
      "execution_count": null,
      "metadata": {
        "id": "5ucPBq6aInY5",
        "outputId": "99cc73f0-a0fa-4dc5-c220-1a4171c3b9cb"
      },
      "outputs": [
        {
          "data": {
            "text/html": [
              "<div>\n",
              "<style scoped>\n",
              "    .dataframe tbody tr th:only-of-type {\n",
              "        vertical-align: middle;\n",
              "    }\n",
              "\n",
              "    .dataframe tbody tr th {\n",
              "        vertical-align: top;\n",
              "    }\n",
              "\n",
              "    .dataframe thead th {\n",
              "        text-align: right;\n",
              "    }\n",
              "</style>\n",
              "<table border=\"1\" class=\"dataframe\">\n",
              "  <thead>\n",
              "    <tr style=\"text-align: right;\">\n",
              "      <th></th>\n",
              "      <th>REGION</th>\n",
              "      <th>PROVINCIA</th>\n",
              "      <th>COMUNA</th>\n",
              "      <th>DC</th>\n",
              "      <th>AREA</th>\n",
              "      <th>ZC_LOC</th>\n",
              "      <th>ID_ZONA_LOC</th>\n",
              "      <th>NVIV</th>\n",
              "      <th>NHOGAR</th>\n",
              "      <th>PERSONAN</th>\n",
              "      <th>...</th>\n",
              "      <th>P11PAIS_GRUPO</th>\n",
              "      <th>P12PAIS_GRUPO</th>\n",
              "      <th>ESCOLARIDAD</th>\n",
              "      <th>P16A_GRUPO</th>\n",
              "      <th>REGION_15R</th>\n",
              "      <th>PROVINCIA_15R</th>\n",
              "      <th>COMUNA_15R</th>\n",
              "      <th>P10COMUNA_15R</th>\n",
              "      <th>P11COMUNA_15R</th>\n",
              "      <th>P12COMUNA_15R</th>\n",
              "    </tr>\n",
              "  </thead>\n",
              "  <tbody>\n",
              "    <tr>\n",
              "      <th>0</th>\n",
              "      <td>15</td>\n",
              "      <td>152</td>\n",
              "      <td>15202</td>\n",
              "      <td>1</td>\n",
              "      <td>2</td>\n",
              "      <td>6</td>\n",
              "      <td>13225</td>\n",
              "      <td>1</td>\n",
              "      <td>1</td>\n",
              "      <td>1</td>\n",
              "      <td>...</td>\n",
              "      <td>998</td>\n",
              "      <td>998</td>\n",
              "      <td>4</td>\n",
              "      <td>2</td>\n",
              "      <td>15</td>\n",
              "      <td>152</td>\n",
              "      <td>15202</td>\n",
              "      <td>98</td>\n",
              "      <td>15101</td>\n",
              "      <td>98</td>\n",
              "    </tr>\n",
              "    <tr>\n",
              "      <th>1</th>\n",
              "      <td>15</td>\n",
              "      <td>152</td>\n",
              "      <td>15202</td>\n",
              "      <td>1</td>\n",
              "      <td>2</td>\n",
              "      <td>6</td>\n",
              "      <td>13225</td>\n",
              "      <td>3</td>\n",
              "      <td>1</td>\n",
              "      <td>1</td>\n",
              "      <td>...</td>\n",
              "      <td>998</td>\n",
              "      <td>998</td>\n",
              "      <td>0</td>\n",
              "      <td>2</td>\n",
              "      <td>15</td>\n",
              "      <td>152</td>\n",
              "      <td>15202</td>\n",
              "      <td>98</td>\n",
              "      <td>98</td>\n",
              "      <td>98</td>\n",
              "    </tr>\n",
              "    <tr>\n",
              "      <th>2</th>\n",
              "      <td>15</td>\n",
              "      <td>152</td>\n",
              "      <td>15202</td>\n",
              "      <td>1</td>\n",
              "      <td>2</td>\n",
              "      <td>6</td>\n",
              "      <td>13225</td>\n",
              "      <td>3</td>\n",
              "      <td>1</td>\n",
              "      <td>2</td>\n",
              "      <td>...</td>\n",
              "      <td>998</td>\n",
              "      <td>998</td>\n",
              "      <td>0</td>\n",
              "      <td>2</td>\n",
              "      <td>15</td>\n",
              "      <td>152</td>\n",
              "      <td>15202</td>\n",
              "      <td>98</td>\n",
              "      <td>98</td>\n",
              "      <td>98</td>\n",
              "    </tr>\n",
              "    <tr>\n",
              "      <th>3</th>\n",
              "      <td>15</td>\n",
              "      <td>152</td>\n",
              "      <td>15202</td>\n",
              "      <td>1</td>\n",
              "      <td>2</td>\n",
              "      <td>6</td>\n",
              "      <td>13225</td>\n",
              "      <td>3</td>\n",
              "      <td>1</td>\n",
              "      <td>3</td>\n",
              "      <td>...</td>\n",
              "      <td>998</td>\n",
              "      <td>998</td>\n",
              "      <td>2</td>\n",
              "      <td>2</td>\n",
              "      <td>15</td>\n",
              "      <td>152</td>\n",
              "      <td>15202</td>\n",
              "      <td>98</td>\n",
              "      <td>98</td>\n",
              "      <td>98</td>\n",
              "    </tr>\n",
              "    <tr>\n",
              "      <th>4</th>\n",
              "      <td>15</td>\n",
              "      <td>152</td>\n",
              "      <td>15202</td>\n",
              "      <td>1</td>\n",
              "      <td>2</td>\n",
              "      <td>6</td>\n",
              "      <td>13225</td>\n",
              "      <td>3</td>\n",
              "      <td>1</td>\n",
              "      <td>4</td>\n",
              "      <td>...</td>\n",
              "      <td>998</td>\n",
              "      <td>998</td>\n",
              "      <td>3</td>\n",
              "      <td>2</td>\n",
              "      <td>15</td>\n",
              "      <td>152</td>\n",
              "      <td>15202</td>\n",
              "      <td>98</td>\n",
              "      <td>98</td>\n",
              "      <td>98</td>\n",
              "    </tr>\n",
              "  </tbody>\n",
              "</table>\n",
              "<p>5 rows × 48 columns</p>\n",
              "</div>"
            ],
            "text/plain": [
              "   REGION  PROVINCIA  COMUNA  DC  AREA  ZC_LOC  ID_ZONA_LOC  NVIV  NHOGAR  \\\n",
              "0      15        152   15202   1     2       6        13225     1       1   \n",
              "1      15        152   15202   1     2       6        13225     3       1   \n",
              "2      15        152   15202   1     2       6        13225     3       1   \n",
              "3      15        152   15202   1     2       6        13225     3       1   \n",
              "4      15        152   15202   1     2       6        13225     3       1   \n",
              "\n",
              "   PERSONAN  ...  P11PAIS_GRUPO  P12PAIS_GRUPO  ESCOLARIDAD  P16A_GRUPO  \\\n",
              "0         1  ...            998            998            4           2   \n",
              "1         1  ...            998            998            0           2   \n",
              "2         2  ...            998            998            0           2   \n",
              "3         3  ...            998            998            2           2   \n",
              "4         4  ...            998            998            3           2   \n",
              "\n",
              "   REGION_15R  PROVINCIA_15R  COMUNA_15R  P10COMUNA_15R  P11COMUNA_15R  \\\n",
              "0          15            152       15202             98          15101   \n",
              "1          15            152       15202             98             98   \n",
              "2          15            152       15202             98             98   \n",
              "3          15            152       15202             98             98   \n",
              "4          15            152       15202             98             98   \n",
              "\n",
              "   P12COMUNA_15R  \n",
              "0             98  \n",
              "1             98  \n",
              "2             98  \n",
              "3             98  \n",
              "4             98  \n",
              "\n",
              "[5 rows x 48 columns]"
            ]
          },
          "execution_count": 7,
          "metadata": {},
          "output_type": "execute_result"
        }
      ],
      "source": [
        "censo_17.head()"
      ]
    },
    {
      "cell_type": "code",
      "execution_count": null,
      "metadata": {
        "id": "r4Qf9hHuInY6",
        "outputId": "4a164eb9-8ff9-4411-ad14-d6292f9bdb1d"
      },
      "outputs": [
        {
          "data": {
            "text/plain": [
              "Index(['REGION', 'PROVINCIA', 'COMUNA', 'DC', 'AREA', 'ZC_LOC', 'ID_ZONA_LOC',\n",
              "       'NVIV', 'NHOGAR', 'PERSONAN', 'P07', 'P08', 'P09', 'P10', 'P10COMUNA',\n",
              "       'P10PAIS', 'P11', 'P11COMUNA', 'P11PAIS', 'P12', 'P12COMUNA', 'P12PAIS',\n",
              "       'P12A_LLEGADA', 'P12A_TRAMO', 'P13', 'P14', 'P15', 'P15A', 'P16',\n",
              "       'P16A', 'P16A_OTRO', 'P17', 'P18', 'P19', 'P20', 'P21M', 'P21A',\n",
              "       'P10PAIS_GRUPO', 'P11PAIS_GRUPO', 'P12PAIS_GRUPO', 'ESCOLARIDAD',\n",
              "       'P16A_GRUPO', 'REGION_15R', 'PROVINCIA_15R', 'COMUNA_15R',\n",
              "       'P10COMUNA_15R', 'P11COMUNA_15R', 'P12COMUNA_15R'],\n",
              "      dtype='object')"
            ]
          },
          "execution_count": 6,
          "metadata": {},
          "output_type": "execute_result"
        }
      ],
      "source": [
        "censo_17.keys()"
      ]
    },
    {
      "cell_type": "markdown",
      "metadata": {
        "id": "UdVkqa1QInY7"
      },
      "source": [
        "### Transformación a parquet y carga"
      ]
    },
    {
      "cell_type": "code",
      "execution_count": null,
      "metadata": {
        "id": "qwSPJX_BInY8"
      },
      "outputs": [],
      "source": [
        "#Se transforma el dataframe de pandas a formato parquet.\n",
        "censo_pq = pa.Table.from_pandas(censo_17)"
      ]
    },
    {
      "cell_type": "code",
      "execution_count": null,
      "metadata": {
        "id": "UPlh5nWjInY8"
      },
      "outputs": [],
      "source": [
        "# Se guarda el dataset en formato parquet\n",
        "pq.write_table(censo_pq, 'C:/Users/benja/OneDrive - Instituto Nacional de Estadisticas/PAECIS/TIF/CENSO 17/Microdato_Censo2017-Personas.parquet')"
      ]
    },
    {
      "cell_type": "code",
      "execution_count": null,
      "metadata": {
        "id": "LymWQ_ZJInY9"
      },
      "outputs": [],
      "source": [
        "del censo_17"
      ]
    },
    {
      "cell_type": "code",
      "execution_count": null,
      "metadata": {
        "id": "tjaznwZeInY9"
      },
      "outputs": [],
      "source": [
        "# Se lee nuevamente el dataset, esta vez el tiempo de carga se reduce considerablemente.\n",
        "censo_17 = pq.read_table('C:/Users/benja/OneDrive - Instituto Nacional de Estadisticas/PAECIS/TIF/CENSO 17/Microdato_Censo2017-Personas.parquet').to_pandas()"
      ]
    },
    {
      "cell_type": "code",
      "execution_count": null,
      "metadata": {
        "id": "_zW82CnOInY9",
        "outputId": "fe875199-2452-47ac-a78f-a35ac8b82695"
      },
      "outputs": [
        {
          "data": {
            "text/html": [
              "<div>\n",
              "<style scoped>\n",
              "    .dataframe tbody tr th:only-of-type {\n",
              "        vertical-align: middle;\n",
              "    }\n",
              "\n",
              "    .dataframe tbody tr th {\n",
              "        vertical-align: top;\n",
              "    }\n",
              "\n",
              "    .dataframe thead th {\n",
              "        text-align: right;\n",
              "    }\n",
              "</style>\n",
              "<table border=\"1\" class=\"dataframe\">\n",
              "  <thead>\n",
              "    <tr style=\"text-align: right;\">\n",
              "      <th></th>\n",
              "      <th>REGION</th>\n",
              "      <th>PROVINCIA</th>\n",
              "      <th>COMUNA</th>\n",
              "      <th>DC</th>\n",
              "      <th>AREA</th>\n",
              "      <th>ZC_LOC</th>\n",
              "      <th>ID_ZONA_LOC</th>\n",
              "      <th>NVIV</th>\n",
              "      <th>NHOGAR</th>\n",
              "      <th>PERSONAN</th>\n",
              "      <th>...</th>\n",
              "      <th>P11PAIS_GRUPO</th>\n",
              "      <th>P12PAIS_GRUPO</th>\n",
              "      <th>ESCOLARIDAD</th>\n",
              "      <th>P16A_GRUPO</th>\n",
              "      <th>REGION_15R</th>\n",
              "      <th>PROVINCIA_15R</th>\n",
              "      <th>COMUNA_15R</th>\n",
              "      <th>P10COMUNA_15R</th>\n",
              "      <th>P11COMUNA_15R</th>\n",
              "      <th>P12COMUNA_15R</th>\n",
              "    </tr>\n",
              "  </thead>\n",
              "  <tbody>\n",
              "    <tr>\n",
              "      <th>0</th>\n",
              "      <td>15</td>\n",
              "      <td>152</td>\n",
              "      <td>15202</td>\n",
              "      <td>1</td>\n",
              "      <td>2</td>\n",
              "      <td>6</td>\n",
              "      <td>13225</td>\n",
              "      <td>1</td>\n",
              "      <td>1</td>\n",
              "      <td>1</td>\n",
              "      <td>...</td>\n",
              "      <td>998</td>\n",
              "      <td>998</td>\n",
              "      <td>4</td>\n",
              "      <td>2</td>\n",
              "      <td>15</td>\n",
              "      <td>152</td>\n",
              "      <td>15202</td>\n",
              "      <td>98</td>\n",
              "      <td>15101</td>\n",
              "      <td>98</td>\n",
              "    </tr>\n",
              "    <tr>\n",
              "      <th>1</th>\n",
              "      <td>15</td>\n",
              "      <td>152</td>\n",
              "      <td>15202</td>\n",
              "      <td>1</td>\n",
              "      <td>2</td>\n",
              "      <td>6</td>\n",
              "      <td>13225</td>\n",
              "      <td>3</td>\n",
              "      <td>1</td>\n",
              "      <td>1</td>\n",
              "      <td>...</td>\n",
              "      <td>998</td>\n",
              "      <td>998</td>\n",
              "      <td>0</td>\n",
              "      <td>2</td>\n",
              "      <td>15</td>\n",
              "      <td>152</td>\n",
              "      <td>15202</td>\n",
              "      <td>98</td>\n",
              "      <td>98</td>\n",
              "      <td>98</td>\n",
              "    </tr>\n",
              "    <tr>\n",
              "      <th>2</th>\n",
              "      <td>15</td>\n",
              "      <td>152</td>\n",
              "      <td>15202</td>\n",
              "      <td>1</td>\n",
              "      <td>2</td>\n",
              "      <td>6</td>\n",
              "      <td>13225</td>\n",
              "      <td>3</td>\n",
              "      <td>1</td>\n",
              "      <td>2</td>\n",
              "      <td>...</td>\n",
              "      <td>998</td>\n",
              "      <td>998</td>\n",
              "      <td>0</td>\n",
              "      <td>2</td>\n",
              "      <td>15</td>\n",
              "      <td>152</td>\n",
              "      <td>15202</td>\n",
              "      <td>98</td>\n",
              "      <td>98</td>\n",
              "      <td>98</td>\n",
              "    </tr>\n",
              "    <tr>\n",
              "      <th>3</th>\n",
              "      <td>15</td>\n",
              "      <td>152</td>\n",
              "      <td>15202</td>\n",
              "      <td>1</td>\n",
              "      <td>2</td>\n",
              "      <td>6</td>\n",
              "      <td>13225</td>\n",
              "      <td>3</td>\n",
              "      <td>1</td>\n",
              "      <td>3</td>\n",
              "      <td>...</td>\n",
              "      <td>998</td>\n",
              "      <td>998</td>\n",
              "      <td>2</td>\n",
              "      <td>2</td>\n",
              "      <td>15</td>\n",
              "      <td>152</td>\n",
              "      <td>15202</td>\n",
              "      <td>98</td>\n",
              "      <td>98</td>\n",
              "      <td>98</td>\n",
              "    </tr>\n",
              "    <tr>\n",
              "      <th>4</th>\n",
              "      <td>15</td>\n",
              "      <td>152</td>\n",
              "      <td>15202</td>\n",
              "      <td>1</td>\n",
              "      <td>2</td>\n",
              "      <td>6</td>\n",
              "      <td>13225</td>\n",
              "      <td>3</td>\n",
              "      <td>1</td>\n",
              "      <td>4</td>\n",
              "      <td>...</td>\n",
              "      <td>998</td>\n",
              "      <td>998</td>\n",
              "      <td>3</td>\n",
              "      <td>2</td>\n",
              "      <td>15</td>\n",
              "      <td>152</td>\n",
              "      <td>15202</td>\n",
              "      <td>98</td>\n",
              "      <td>98</td>\n",
              "      <td>98</td>\n",
              "    </tr>\n",
              "  </tbody>\n",
              "</table>\n",
              "<p>5 rows × 48 columns</p>\n",
              "</div>"
            ],
            "text/plain": [
              "   REGION  PROVINCIA  COMUNA  DC  AREA  ZC_LOC  ID_ZONA_LOC  NVIV  NHOGAR  \\\n",
              "0      15        152   15202   1     2       6        13225     1       1   \n",
              "1      15        152   15202   1     2       6        13225     3       1   \n",
              "2      15        152   15202   1     2       6        13225     3       1   \n",
              "3      15        152   15202   1     2       6        13225     3       1   \n",
              "4      15        152   15202   1     2       6        13225     3       1   \n",
              "\n",
              "   PERSONAN  ...  P11PAIS_GRUPO  P12PAIS_GRUPO  ESCOLARIDAD  P16A_GRUPO  \\\n",
              "0         1  ...            998            998            4           2   \n",
              "1         1  ...            998            998            0           2   \n",
              "2         2  ...            998            998            0           2   \n",
              "3         3  ...            998            998            2           2   \n",
              "4         4  ...            998            998            3           2   \n",
              "\n",
              "   REGION_15R  PROVINCIA_15R  COMUNA_15R  P10COMUNA_15R  P11COMUNA_15R  \\\n",
              "0          15            152       15202             98          15101   \n",
              "1          15            152       15202             98             98   \n",
              "2          15            152       15202             98             98   \n",
              "3          15            152       15202             98             98   \n",
              "4          15            152       15202             98             98   \n",
              "\n",
              "   P12COMUNA_15R  \n",
              "0             98  \n",
              "1             98  \n",
              "2             98  \n",
              "3             98  \n",
              "4             98  \n",
              "\n",
              "[5 rows x 48 columns]"
            ]
          },
          "execution_count": 3,
          "metadata": {},
          "output_type": "execute_result"
        }
      ],
      "source": [
        "censo_17.head()"
      ]
    },
    {
      "cell_type": "code",
      "execution_count": null,
      "metadata": {
        "id": "3TdWL-drInY-"
      },
      "outputs": [],
      "source": [
        "#Se seleccionan solo las variables de interés: Comuna, edad, escolaridad y sexo.\n",
        "\n",
        "censo_17 = censo_17[['COMUNA', 'P08', 'P09', 'P13', 'P14', 'P15', 'P15A', 'ESCOLARIDAD']]"
      ]
    },
    {
      "cell_type": "markdown",
      "metadata": {
        "id": "3QFISqCQInY-"
      },
      "source": [
        "## Exploración Censo\n",
        "\n",
        "### Censo completo"
      ]
    },
    {
      "cell_type": "code",
      "execution_count": null,
      "metadata": {
        "id": "6OPHZUNkInY-",
        "outputId": "61fbf729-edd7-49b3-8eff-5e40a77e7384"
      },
      "outputs": [
        {
          "data": {
            "text/plain": [
              "ESCOLARIDAD\n",
              "0     1882834\n",
              "1      342840\n",
              "2      390050\n",
              "3      485038\n",
              "4      551347\n",
              "5      464959\n",
              "6      805990\n",
              "7      480776\n",
              "8     1345103\n",
              "9      608218\n",
              "10     922644\n",
              "11     589371\n",
              "12    4189839\n",
              "13     334841\n",
              "14     699575\n",
              "15     709520\n",
              "16     599405\n",
              "17    1346449\n",
              "18      24652\n",
              "19     169194\n",
              "20      19094\n",
              "21      31749\n",
              "99     580515\n",
              "dtype: int64"
            ]
          },
          "execution_count": 5,
          "metadata": {},
          "output_type": "execute_result"
        }
      ],
      "source": [
        "FREC_ESC= censo_17.value_counts(subset='ESCOLARIDAD')\n",
        "\n",
        "FREC_ESC.sort_index()"
      ]
    },
    {
      "cell_type": "code",
      "execution_count": null,
      "metadata": {
        "id": "HJDM8gXbInY-"
      },
      "outputs": [],
      "source": [
        "ESC_COMUNA = censo_17.groupby(by='COMUNA').mean('ESCOLARIDAD').reset_index()[['COMUNA', 'ESCOLARIDAD']].sort_values(by = 'COMUNA')"
      ]
    },
    {
      "cell_type": "code",
      "execution_count": null,
      "metadata": {
        "id": "aAW-CgU_InY_",
        "outputId": "209698ba-1d84-41cc-a56a-e63057f8b79d"
      },
      "outputs": [
        {
          "data": {
            "text/html": [
              "<div>\n",
              "<style scoped>\n",
              "    .dataframe tbody tr th:only-of-type {\n",
              "        vertical-align: middle;\n",
              "    }\n",
              "\n",
              "    .dataframe tbody tr th {\n",
              "        vertical-align: top;\n",
              "    }\n",
              "\n",
              "    .dataframe thead th {\n",
              "        text-align: right;\n",
              "    }\n",
              "</style>\n",
              "<table border=\"1\" class=\"dataframe\">\n",
              "  <thead>\n",
              "    <tr style=\"text-align: right;\">\n",
              "      <th></th>\n",
              "      <th>COMUNA</th>\n",
              "      <th>ESCOLARIDAD</th>\n",
              "    </tr>\n",
              "  </thead>\n",
              "  <tbody>\n",
              "    <tr>\n",
              "      <th>0</th>\n",
              "      <td>1101</td>\n",
              "      <td>12.630883</td>\n",
              "    </tr>\n",
              "    <tr>\n",
              "      <th>1</th>\n",
              "      <td>1107</td>\n",
              "      <td>12.228614</td>\n",
              "    </tr>\n",
              "    <tr>\n",
              "      <th>2</th>\n",
              "      <td>1401</td>\n",
              "      <td>11.755394</td>\n",
              "    </tr>\n",
              "    <tr>\n",
              "      <th>3</th>\n",
              "      <td>1402</td>\n",
              "      <td>15.192000</td>\n",
              "    </tr>\n",
              "    <tr>\n",
              "      <th>4</th>\n",
              "      <td>1403</td>\n",
              "      <td>15.864583</td>\n",
              "    </tr>\n",
              "  </tbody>\n",
              "</table>\n",
              "</div>"
            ],
            "text/plain": [
              "   COMUNA  ESCOLARIDAD\n",
              "0    1101    12.630883\n",
              "1    1107    12.228614\n",
              "2    1401    11.755394\n",
              "3    1402    15.192000\n",
              "4    1403    15.864583"
            ]
          },
          "execution_count": 7,
          "metadata": {},
          "output_type": "execute_result"
        }
      ],
      "source": [
        "ESC_COMUNA.head()"
      ]
    },
    {
      "cell_type": "code",
      "execution_count": null,
      "metadata": {
        "id": "-NMM2EbhInY_"
      },
      "outputs": [],
      "source": [
        "ESC_COMUNA.to_csv('C:/Users/benja/OneDrive - Instituto Nacional de Estadisticas/PAECIS/TIF/Salidas C17/escolaridad_comuna.csv')"
      ]
    },
    {
      "cell_type": "code",
      "execution_count": null,
      "metadata": {
        "id": "5cZOWYv5InY_"
      },
      "outputs": [],
      "source": [
        "EDAD_COMUNA = censo_17.groupby(by='COMUNA').mean('P09').reset_index()[['COMUNA', 'P09']].sort_values(by = 'COMUNA')"
      ]
    },
    {
      "cell_type": "code",
      "execution_count": null,
      "metadata": {
        "id": "GgCt-XUCInY_",
        "outputId": "8a78c9e2-5974-4f16-e02a-e9a3af7c837e"
      },
      "outputs": [
        {
          "data": {
            "text/html": [
              "<div>\n",
              "<style scoped>\n",
              "    .dataframe tbody tr th:only-of-type {\n",
              "        vertical-align: middle;\n",
              "    }\n",
              "\n",
              "    .dataframe tbody tr th {\n",
              "        vertical-align: top;\n",
              "    }\n",
              "\n",
              "    .dataframe thead th {\n",
              "        text-align: right;\n",
              "    }\n",
              "</style>\n",
              "<table border=\"1\" class=\"dataframe\">\n",
              "  <thead>\n",
              "    <tr style=\"text-align: right;\">\n",
              "      <th></th>\n",
              "      <th>COMUNA</th>\n",
              "      <th>P09</th>\n",
              "    </tr>\n",
              "  </thead>\n",
              "  <tbody>\n",
              "    <tr>\n",
              "      <th>0</th>\n",
              "      <td>1101</td>\n",
              "      <td>34.304349</td>\n",
              "    </tr>\n",
              "    <tr>\n",
              "      <th>1</th>\n",
              "      <td>1107</td>\n",
              "      <td>28.791649</td>\n",
              "    </tr>\n",
              "    <tr>\n",
              "      <th>2</th>\n",
              "      <td>1401</td>\n",
              "      <td>32.163580</td>\n",
              "    </tr>\n",
              "    <tr>\n",
              "      <th>3</th>\n",
              "      <td>1402</td>\n",
              "      <td>37.286400</td>\n",
              "    </tr>\n",
              "    <tr>\n",
              "      <th>4</th>\n",
              "      <td>1403</td>\n",
              "      <td>37.019097</td>\n",
              "    </tr>\n",
              "  </tbody>\n",
              "</table>\n",
              "</div>"
            ],
            "text/plain": [
              "   COMUNA        P09\n",
              "0    1101  34.304349\n",
              "1    1107  28.791649\n",
              "2    1401  32.163580\n",
              "3    1402  37.286400\n",
              "4    1403  37.019097"
            ]
          },
          "execution_count": 9,
          "metadata": {},
          "output_type": "execute_result"
        }
      ],
      "source": [
        "EDAD_COMUNA.head()"
      ]
    },
    {
      "cell_type": "code",
      "execution_count": null,
      "metadata": {
        "id": "15QVbZAKInZA"
      },
      "outputs": [],
      "source": [
        "EDAD_COMUNA.to_csv('C:/Users/benja/OneDrive - Instituto Nacional de Estadisticas/PAECIS/TIF/Salidas C17/edad_comuna.csv')"
      ]
    },
    {
      "cell_type": "code",
      "execution_count": null,
      "metadata": {
        "id": "ebQ_pTYYInZA",
        "outputId": "3ed745d2-d5d3-438f-eaf9-3039a5ae1367"
      },
      "outputs": [
        {
          "data": {
            "image/png": "[encoded data removed]",
            "text/plain": [
              "<Figure size 640x480 with 1 Axes>"
            ]
          },
          "metadata": {},
          "output_type": "display_data"
        }
      ],
      "source": [
        "fig, ax = plt.subplots()\n",
        "\n",
        "ax.hist(EDAD_COMUNA['P09'], 20, facecolor = 'coral', linewidth = 0.5, edgecolor = 'white', density=True)\n",
        "ax.set_title('Edad promedio por comuna')\n",
        "plt.show()"
      ]
    },
    {
      "cell_type": "code",
      "execution_count": null,
      "metadata": {
        "id": "1SYGd3QbInZA",
        "outputId": "b0037097-e5b6-49b9-8428-3d333e5dc16c"
      },
      "outputs": [
        {
          "data": {
            "image/png": "[encoded data removed]",
            "text/plain": [
              "<Figure size 640x480 with 1 Axes>"
            ]
          },
          "metadata": {},
          "output_type": "display_data"
        }
      ],
      "source": [
        "fig, ax = plt.subplots()\n",
        "\n",
        "ax.hist(ESC_COMUNA['ESCOLARIDAD'], 20, facecolor = 'tab:cyan', edgecolor = 'white')\n",
        "ax.set_title('Años de escolaridad promedio por comuna')\n",
        "plt.show()\n"
      ]
    },
    {
      "cell_type": "code",
      "execution_count": null,
      "metadata": {
        "id": "hUcbWsYwInZB",
        "outputId": "0b4e15b0-024d-4a1a-8e7a-911478ecb893"
      },
      "outputs": [
        {
          "data": {
            "image/png": "[encoded data removed]",
            "text/plain": [
              "<Figure size 640x480 with 1 Axes>"
            ]
          },
          "metadata": {},
          "output_type": "display_data"
        }
      ],
      "source": [
        "fig, ax = plt.subplots()\n",
        "\n",
        "ax.hist(censo_17['P09'], 50, edgecolor = '1', linewidth = 0.4)\n",
        "ax.set_title('Histograma: Edad de la población chilena (2017)')\n",
        "plt.show()"
      ]
    },
    {
      "cell_type": "code",
      "execution_count": null,
      "metadata": {
        "id": "0mjKOxY3InZC"
      },
      "outputs": [],
      "source": [
        "esc_rec = censo_17['ESCOLARIDAD']"
      ]
    },
    {
      "cell_type": "code",
      "execution_count": null,
      "metadata": {
        "id": "t8FmCFDOInZC"
      },
      "outputs": [],
      "source": [
        "esc_rec = esc_rec.replace(to_replace=99, value=np.NaN)"
      ]
    },
    {
      "cell_type": "code",
      "execution_count": null,
      "metadata": {
        "id": "DUJ235dsInZC",
        "outputId": "ce5e352d-ceeb-49cc-8d20-c1a2194681d6"
      },
      "outputs": [
        {
          "data": {
            "text/plain": [
              "count    1.699349e+07\n",
              "mean     9.386473e+00\n",
              "std      5.264380e+00\n",
              "min      0.000000e+00\n",
              "25%      6.000000e+00\n",
              "50%      1.100000e+01\n",
              "75%      1.200000e+01\n",
              "max      2.100000e+01\n",
              "Name: ESCOLARIDAD, dtype: float64"
            ]
          },
          "execution_count": 16,
          "metadata": {},
          "output_type": "execute_result"
        }
      ],
      "source": [
        "esc_rec.describe()"
      ]
    },
    {
      "cell_type": "code",
      "execution_count": null,
      "metadata": {
        "id": "xNnxcpALInZC",
        "outputId": "ac139817-5ca4-42ed-963c-a74c9ed70e7b"
      },
      "outputs": [
        {
          "data": {
            "text/plain": [
              "0.0     1882834\n",
              "1.0      342840\n",
              "2.0      390050\n",
              "3.0      485038\n",
              "4.0      551347\n",
              "5.0      464959\n",
              "6.0      805990\n",
              "7.0      480776\n",
              "8.0     1345103\n",
              "9.0      608218\n",
              "10.0     922644\n",
              "11.0     589371\n",
              "12.0    4189839\n",
              "13.0     334841\n",
              "14.0     699575\n",
              "15.0     709520\n",
              "16.0     599405\n",
              "17.0    1346449\n",
              "18.0      24652\n",
              "19.0     169194\n",
              "20.0      19094\n",
              "21.0      31749\n",
              "Name: ESCOLARIDAD, dtype: int64"
            ]
          },
          "execution_count": 17,
          "metadata": {},
          "output_type": "execute_result"
        }
      ],
      "source": [
        "sumary_esc = esc_rec.value_counts().sort_index()\n",
        "\n",
        "sumary_esc\n"
      ]
    },
    {
      "cell_type": "code",
      "execution_count": null,
      "metadata": {
        "id": "F7HnvFP5InZC",
        "outputId": "b18c393c-1c3c-4be6-b6d7-a2c596503c1a"
      },
      "outputs": [
        {
          "data": {
            "text/plain": [
              "array([1882834,  342840,  390050,  485038,  551347,  464959,  805990,\n",
              "        480776, 1345103,  608218,  922644,  589371, 4189839,  334841,\n",
              "        699575,  709520,  599405, 1346449,   24652,  169194,   19094,\n",
              "         31749], dtype=int64)"
            ]
          },
          "execution_count": 18,
          "metadata": {},
          "output_type": "execute_result"
        }
      ],
      "source": [
        "sumary_esc.values"
      ]
    },
    {
      "cell_type": "code",
      "execution_count": null,
      "metadata": {
        "id": "j3efAdRDInZC",
        "outputId": "8e1c1f17-01ed-4e5c-f5c8-1496da22eaf4"
      },
      "outputs": [
        {
          "data": {
            "image/png": "[encoded data removed]",
            "text/plain": [
              "<Figure size 640x480 with 1 Axes>"
            ]
          },
          "metadata": {},
          "output_type": "display_data"
        }
      ],
      "source": [
        "sumary_esc.plot.bar()\n",
        "plt.show()"
      ]
    },
    {
      "cell_type": "code",
      "execution_count": null,
      "metadata": {
        "id": "SDBZEhijInZD"
      },
      "outputs": [],
      "source": [
        "esc_edad = pd.merge(ESC_COMUNA, EDAD_COMUNA, how='inner', on='COMUNA')"
      ]
    },
    {
      "cell_type": "code",
      "execution_count": null,
      "metadata": {
        "id": "v1mHdh0lInZD",
        "outputId": "c53f1fdf-31de-4ae8-af9b-8ffcb81de778"
      },
      "outputs": [
        {
          "data": {
            "text/html": [
              "<div>\n",
              "<style scoped>\n",
              "    .dataframe tbody tr th:only-of-type {\n",
              "        vertical-align: middle;\n",
              "    }\n",
              "\n",
              "    .dataframe tbody tr th {\n",
              "        vertical-align: top;\n",
              "    }\n",
              "\n",
              "    .dataframe thead th {\n",
              "        text-align: right;\n",
              "    }\n",
              "</style>\n",
              "<table border=\"1\" class=\"dataframe\">\n",
              "  <thead>\n",
              "    <tr style=\"text-align: right;\">\n",
              "      <th></th>\n",
              "      <th>COMUNA</th>\n",
              "      <th>ESCOLARIDAD</th>\n",
              "      <th>P09</th>\n",
              "    </tr>\n",
              "  </thead>\n",
              "  <tbody>\n",
              "    <tr>\n",
              "      <th>0</th>\n",
              "      <td>1101</td>\n",
              "      <td>12.630883</td>\n",
              "      <td>34.304349</td>\n",
              "    </tr>\n",
              "    <tr>\n",
              "      <th>1</th>\n",
              "      <td>1107</td>\n",
              "      <td>12.228614</td>\n",
              "      <td>28.791649</td>\n",
              "    </tr>\n",
              "    <tr>\n",
              "      <th>2</th>\n",
              "      <td>1401</td>\n",
              "      <td>11.755394</td>\n",
              "      <td>32.163580</td>\n",
              "    </tr>\n",
              "    <tr>\n",
              "      <th>3</th>\n",
              "      <td>1402</td>\n",
              "      <td>15.192000</td>\n",
              "      <td>37.286400</td>\n",
              "    </tr>\n",
              "    <tr>\n",
              "      <th>4</th>\n",
              "      <td>1403</td>\n",
              "      <td>15.864583</td>\n",
              "      <td>37.019097</td>\n",
              "    </tr>\n",
              "  </tbody>\n",
              "</table>\n",
              "</div>"
            ],
            "text/plain": [
              "   COMUNA  ESCOLARIDAD        P09\n",
              "0    1101    12.630883  34.304349\n",
              "1    1107    12.228614  28.791649\n",
              "2    1401    11.755394  32.163580\n",
              "3    1402    15.192000  37.286400\n",
              "4    1403    15.864583  37.019097"
            ]
          },
          "execution_count": 21,
          "metadata": {},
          "output_type": "execute_result"
        }
      ],
      "source": [
        "esc_edad.head()"
      ]
    },
    {
      "cell_type": "code",
      "execution_count": null,
      "metadata": {
        "id": "3BqZaUQCInZD",
        "outputId": "00279648-5e51-466c-b037-e5a6b1207fed"
      },
      "outputs": [
        {
          "data": {
            "image/png": "[encoded data removed]",
            "text/plain": [
              "<Figure size 640x480 with 1 Axes>"
            ]
          },
          "metadata": {},
          "output_type": "display_data"
        }
      ],
      "source": [
        "fig, ax = plt.subplots()\n",
        "\n",
        "ax.scatter(x = esc_edad['ESCOLARIDAD'], y = esc_edad['P09'], facecolor = \"lightgreen\", edgecolors='0.3', linewidths=0.5)\n",
        "plt.show()"
      ]
    },
    {
      "cell_type": "code",
      "execution_count": null,
      "metadata": {
        "id": "1NC4SPNWInZF",
        "outputId": "5c0a5c00-34fb-4ede-c52e-5b59222c4429"
      },
      "outputs": [
        {
          "data": {
            "text/plain": [
              "array([[ 1.        , -0.22762006],\n",
              "       [-0.22762006,  1.        ]])"
            ]
          },
          "execution_count": 23,
          "metadata": {},
          "output_type": "execute_result"
        }
      ],
      "source": [
        "np.corrcoef(esc_edad['ESCOLARIDAD'], esc_edad['P09'])"
      ]
    },
    {
      "cell_type": "code",
      "execution_count": null,
      "metadata": {
        "id": "sYSFanA8InZF"
      },
      "outputs": [],
      "source": [
        "censo_17['hom'] = np.where(censo_17['P08'] == 1, 1, 0)"
      ]
    },
    {
      "cell_type": "code",
      "execution_count": null,
      "metadata": {
        "id": "FxLp40XbInZF",
        "outputId": "30ccc8a3-f835-40ff-e63c-f264e7d0ff2f"
      },
      "outputs": [
        {
          "data": {
            "text/plain": [
              "8601989"
            ]
          },
          "execution_count": 25,
          "metadata": {},
          "output_type": "execute_result"
        }
      ],
      "source": [
        "sum(censo_17['hom'])"
      ]
    },
    {
      "cell_type": "code",
      "execution_count": null,
      "metadata": {
        "id": "xTspvRpaInZF"
      },
      "outputs": [],
      "source": [
        "porc_hom = censo_17.groupby('COMUNA').mean('hom').reset_index()[['COMUNA', 'P08']]"
      ]
    },
    {
      "cell_type": "code",
      "execution_count": null,
      "metadata": {
        "id": "hS0xpcqqInZG"
      },
      "outputs": [],
      "source": [
        "porc_hom['P08'] = porc_hom['P08'] - 1"
      ]
    },
    {
      "cell_type": "code",
      "execution_count": null,
      "metadata": {
        "id": "v1DyoxicInZG",
        "outputId": "da34c9e2-9828-4163-e8d2-b239b8cbaa9d"
      },
      "outputs": [
        {
          "data": {
            "text/html": [
              "<div>\n",
              "<style scoped>\n",
              "    .dataframe tbody tr th:only-of-type {\n",
              "        vertical-align: middle;\n",
              "    }\n",
              "\n",
              "    .dataframe tbody tr th {\n",
              "        vertical-align: top;\n",
              "    }\n",
              "\n",
              "    .dataframe thead th {\n",
              "        text-align: right;\n",
              "    }\n",
              "</style>\n",
              "<table border=\"1\" class=\"dataframe\">\n",
              "  <thead>\n",
              "    <tr style=\"text-align: right;\">\n",
              "      <th></th>\n",
              "      <th>COMUNA</th>\n",
              "      <th>P08</th>\n",
              "    </tr>\n",
              "  </thead>\n",
              "  <tbody>\n",
              "    <tr>\n",
              "      <th>0</th>\n",
              "      <td>1101</td>\n",
              "      <td>0.504371</td>\n",
              "    </tr>\n",
              "    <tr>\n",
              "      <th>1</th>\n",
              "      <td>1107</td>\n",
              "      <td>0.499829</td>\n",
              "    </tr>\n",
              "    <tr>\n",
              "      <th>2</th>\n",
              "      <td>1401</td>\n",
              "      <td>0.427980</td>\n",
              "    </tr>\n",
              "    <tr>\n",
              "      <th>3</th>\n",
              "      <td>1402</td>\n",
              "      <td>0.474400</td>\n",
              "    </tr>\n",
              "    <tr>\n",
              "      <th>4</th>\n",
              "      <td>1403</td>\n",
              "      <td>0.424190</td>\n",
              "    </tr>\n",
              "    <tr>\n",
              "      <th>...</th>\n",
              "      <td>...</td>\n",
              "      <td>...</td>\n",
              "    </tr>\n",
              "    <tr>\n",
              "      <th>341</th>\n",
              "      <td>16301</td>\n",
              "      <td>0.520500</td>\n",
              "    </tr>\n",
              "    <tr>\n",
              "      <th>342</th>\n",
              "      <td>16302</td>\n",
              "      <td>0.500614</td>\n",
              "    </tr>\n",
              "    <tr>\n",
              "      <th>343</th>\n",
              "      <td>16303</td>\n",
              "      <td>0.496413</td>\n",
              "    </tr>\n",
              "    <tr>\n",
              "      <th>344</th>\n",
              "      <td>16304</td>\n",
              "      <td>0.488626</td>\n",
              "    </tr>\n",
              "    <tr>\n",
              "      <th>345</th>\n",
              "      <td>16305</td>\n",
              "      <td>0.500474</td>\n",
              "    </tr>\n",
              "  </tbody>\n",
              "</table>\n",
              "<p>346 rows × 2 columns</p>\n",
              "</div>"
            ],
            "text/plain": [
              "     COMUNA       P08\n",
              "0      1101  0.504371\n",
              "1      1107  0.499829\n",
              "2      1401  0.427980\n",
              "3      1402  0.474400\n",
              "4      1403  0.424190\n",
              "..      ...       ...\n",
              "341   16301  0.520500\n",
              "342   16302  0.500614\n",
              "343   16303  0.496413\n",
              "344   16304  0.488626\n",
              "345   16305  0.500474\n",
              "\n",
              "[346 rows x 2 columns]"
            ]
          },
          "execution_count": 28,
          "metadata": {},
          "output_type": "execute_result"
        }
      ],
      "source": [
        "porc_hom"
      ]
    },
    {
      "cell_type": "code",
      "execution_count": null,
      "metadata": {
        "id": "EQNKjlu7InZG",
        "outputId": "443a7647-1570-4b12-e95c-99751fde6364"
      },
      "outputs": [
        {
          "data": {
            "image/png": "[encoded data removed]",
            "text/plain": [
              "<Figure size 640x480 with 1 Axes>"
            ]
          },
          "metadata": {},
          "output_type": "display_data"
        }
      ],
      "source": [
        "fig, ax = plt.subplots()\n",
        "\n",
        "ax.scatter(x = esc_edad['ESCOLARIDAD'], y = porc_hom['P08'], edgecolors='1', linewidths=0.5)\n",
        "\n",
        "plt.show()"
      ]
    },
    {
      "cell_type": "markdown",
      "metadata": {
        "id": "pRsuKKrSInZG"
      },
      "source": [
        "### Subset población adulta\n",
        "\n",
        "Hasta ahora se trabajó con la base completa, pero para analizar el fenómeno político es importante considerar que es la población adulta la que incide, y altera también indicadores como la escolaridad."
      ]
    },
    {
      "cell_type": "code",
      "execution_count": null,
      "metadata": {
        "id": "g-vePA7cInZH"
      },
      "outputs": [],
      "source": [
        "# Filtramos la base con la población sobre 18 años\n",
        "censo_adult = censo_17.query('P09 >= 18')"
      ]
    },
    {
      "cell_type": "code",
      "execution_count": null,
      "metadata": {
        "id": "0m6mJZxBInZH",
        "outputId": "3f479a0c-8b07-447d-a697-ae51e2ee270b"
      },
      "outputs": [
        {
          "name": "stderr",
          "output_type": "stream",
          "text": [
            "C:\\Users\\benja\\AppData\\Local\\Temp\\ipykernel_15816\\3254188173.py:1: SettingWithCopyWarning: \n",
            "A value is trying to be set on a copy of a slice from a DataFrame.\n",
            "Try using .loc[row_indexer,col_indexer] = value instead\n",
            "\n",
            "See the caveats in the documentation: https://pandas.pydata.org/pandas-docs/stable/user_guide/indexing.html#returning-a-view-versus-a-copy\n",
            "  censo_adult['esc_rec'] = censo_adult['ESCOLARIDAD'].replace(to_replace = 99, value = np.NaN)\n"
          ]
        }
      ],
      "source": [
        "# Creamos una variable de escolaridad recodificada, eliminando los números 99 que representan datos perdidos.\n",
        "\n",
        "censo_adult['esc_rec'] = censo_adult['ESCOLARIDAD'].replace(to_replace = 99, value = np.NaN)"
      ]
    },
    {
      "cell_type": "code",
      "execution_count": null,
      "metadata": {
        "id": "rzSgzSNWInZH"
      },
      "outputs": [],
      "source": [
        "# Se promedian los años de escolaridad por comuna.\n",
        "\n",
        "nivel_ed = censo_adult.groupby('COMUNA').mean('esc_rec').reset_index()[['COMUNA', 'esc_rec']]"
      ]
    },
    {
      "cell_type": "code",
      "execution_count": null,
      "metadata": {
        "id": "MCmbYx4PInZH",
        "outputId": "847503f8-4eed-484f-f195-9414c49df912"
      },
      "outputs": [
        {
          "data": {
            "text/html": [
              "<div>\n",
              "<style scoped>\n",
              "    .dataframe tbody tr th:only-of-type {\n",
              "        vertical-align: middle;\n",
              "    }\n",
              "\n",
              "    .dataframe tbody tr th {\n",
              "        vertical-align: top;\n",
              "    }\n",
              "\n",
              "    .dataframe thead th {\n",
              "        text-align: right;\n",
              "    }\n",
              "</style>\n",
              "<table border=\"1\" class=\"dataframe\">\n",
              "  <thead>\n",
              "    <tr style=\"text-align: right;\">\n",
              "      <th></th>\n",
              "      <th>COMUNA</th>\n",
              "      <th>esc_rec</th>\n",
              "    </tr>\n",
              "  </thead>\n",
              "  <tbody>\n",
              "    <tr>\n",
              "      <th>0</th>\n",
              "      <td>1101</td>\n",
              "      <td>12.206611</td>\n",
              "    </tr>\n",
              "    <tr>\n",
              "      <th>1</th>\n",
              "      <td>1107</td>\n",
              "      <td>10.566225</td>\n",
              "    </tr>\n",
              "    <tr>\n",
              "      <th>2</th>\n",
              "      <td>1401</td>\n",
              "      <td>10.756886</td>\n",
              "    </tr>\n",
              "    <tr>\n",
              "      <th>3</th>\n",
              "      <td>1402</td>\n",
              "      <td>8.372503</td>\n",
              "    </tr>\n",
              "    <tr>\n",
              "      <th>4</th>\n",
              "      <td>1403</td>\n",
              "      <td>8.653282</td>\n",
              "    </tr>\n",
              "    <tr>\n",
              "      <th>...</th>\n",
              "      <td>...</td>\n",
              "      <td>...</td>\n",
              "    </tr>\n",
              "    <tr>\n",
              "      <th>341</th>\n",
              "      <td>16301</td>\n",
              "      <td>9.480996</td>\n",
              "    </tr>\n",
              "    <tr>\n",
              "      <th>342</th>\n",
              "      <td>16302</td>\n",
              "      <td>8.825410</td>\n",
              "    </tr>\n",
              "    <tr>\n",
              "      <th>343</th>\n",
              "      <td>16303</td>\n",
              "      <td>8.133293</td>\n",
              "    </tr>\n",
              "    <tr>\n",
              "      <th>344</th>\n",
              "      <td>16304</td>\n",
              "      <td>8.798042</td>\n",
              "    </tr>\n",
              "    <tr>\n",
              "      <th>345</th>\n",
              "      <td>16305</td>\n",
              "      <td>8.846519</td>\n",
              "    </tr>\n",
              "  </tbody>\n",
              "</table>\n",
              "<p>346 rows × 2 columns</p>\n",
              "</div>"
            ],
            "text/plain": [
              "     COMUNA    esc_rec\n",
              "0      1101  12.206611\n",
              "1      1107  10.566225\n",
              "2      1401  10.756886\n",
              "3      1402   8.372503\n",
              "4      1403   8.653282\n",
              "..      ...        ...\n",
              "341   16301   9.480996\n",
              "342   16302   8.825410\n",
              "343   16303   8.133293\n",
              "344   16304   8.798042\n",
              "345   16305   8.846519\n",
              "\n",
              "[346 rows x 2 columns]"
            ]
          },
          "execution_count": 33,
          "metadata": {},
          "output_type": "execute_result"
        }
      ],
      "source": [
        "nivel_ed"
      ]
    },
    {
      "cell_type": "code",
      "execution_count": null,
      "metadata": {
        "id": "rH_BzvHHInZI",
        "outputId": "7a6da706-9123-4fba-c70b-cb070ddd5b08"
      },
      "outputs": [
        {
          "data": {
            "image/png": "[encoded data removed]",
            "text/plain": [
              "<Figure size 640x480 with 1 Axes>"
            ]
          },
          "metadata": {},
          "output_type": "display_data"
        }
      ],
      "source": [
        "fig, ax = plt.subplots()\n",
        "\n",
        "ax.hist(nivel_ed['esc_rec'], 50, edgecolor = '1', linewidth = 0.4, facecolor = 'purple')\n",
        "ax.set_title('Años de escolaridad por comuna')\n",
        "ax.set_xlabel('Años de escolaridad (promedio)')\n",
        "plt.show()"
      ]
    },
    {
      "cell_type": "code",
      "execution_count": null,
      "metadata": {
        "id": "93NKGC65InZI"
      },
      "outputs": [],
      "source": [
        "#Se promedia la edad por comuna\n",
        "edades = censo_adult.groupby('COMUNA').mean('P09').reset_index()[['COMUNA', 'P09']]"
      ]
    },
    {
      "cell_type": "code",
      "execution_count": null,
      "metadata": {
        "id": "5VcDthrxInZI",
        "outputId": "fe7604d1-7435-41c9-cd85-14df3b30238a"
      },
      "outputs": [
        {
          "data": {
            "image/png": "[encoded data removed]",
            "text/plain": [
              "<Figure size 640x480 with 1 Axes>"
            ]
          },
          "metadata": {},
          "output_type": "display_data"
        }
      ],
      "source": [
        "fig, ax = plt.subplots()\n",
        "\n",
        "ax.hist(edades['P09'], bins=50, edgecolor = '1', linewidth = 0.5)\n",
        "ax.set_title('Edades por comuna')\n",
        "ax.set_xlabel('Edad promedio')\n",
        "plt.show()"
      ]
    },
    {
      "cell_type": "markdown",
      "metadata": {
        "id": "FyjR5RugInZI"
      },
      "source": [
        "De forma exploratoria, intentamos caracterizar la relación entre la edad y la escolaridad, a nivel de comunas. Para ello realizamos una regresión lineal donde la variable independiente será la escolaridad y la dependiente la edad."
      ]
    },
    {
      "cell_type": "code",
      "execution_count": null,
      "metadata": {
        "id": "gML7EpbIInZJ",
        "outputId": "bbbfac16-1c68-41eb-ef6e-617055ba91d6"
      },
      "outputs": [
        {
          "data": {
            "text/html": [
              "<style>#sk-container-id-1 {color: black;}#sk-container-id-1 pre{padding: 0;}#sk-container-id-1 div.sk-toggleable {background-color: white;}#sk-container-id-1 label.sk-toggleable__label {cursor: pointer;display: block;width: 100%;margin-bottom: 0;padding: 0.3em;box-sizing: border-box;text-align: center;}#sk-container-id-1 label.sk-toggleable__label-arrow:before {content: \"▸\";float: left;margin-right: 0.25em;color: #696969;}#sk-container-id-1 label.sk-toggleable__label-arrow:hover:before {color: black;}#sk-container-id-1 div.sk-estimator:hover label.sk-toggleable__label-arrow:before {color: black;}#sk-container-id-1 div.sk-toggleable__content {max-height: 0;max-width: 0;overflow: hidden;text-align: left;background-color: #f0f8ff;}#sk-container-id-1 div.sk-toggleable__content pre {margin: 0.2em;color: black;border-radius: 0.25em;background-color: #f0f8ff;}#sk-container-id-1 input.sk-toggleable__control:checked~div.sk-toggleable__content {max-height: 200px;max-width: 100%;overflow: auto;}#sk-container-id-1 input.sk-toggleable__control:checked~label.sk-toggleable__label-arrow:before {content: \"▾\";}#sk-container-id-1 div.sk-estimator input.sk-toggleable__control:checked~label.sk-toggleable__label {background-color: #d4ebff;}#sk-container-id-1 div.sk-label input.sk-toggleable__control:checked~label.sk-toggleable__label {background-color: #d4ebff;}#sk-container-id-1 input.sk-hidden--visually {border: 0;clip: rect(1px 1px 1px 1px);clip: rect(1px, 1px, 1px, 1px);height: 1px;margin: -1px;overflow: hidden;padding: 0;position: absolute;width: 1px;}#sk-container-id-1 div.sk-estimator {font-family: monospace;background-color: #f0f8ff;border: 1px dotted black;border-radius: 0.25em;box-sizing: border-box;margin-bottom: 0.5em;}#sk-container-id-1 div.sk-estimator:hover {background-color: #d4ebff;}#sk-container-id-1 div.sk-parallel-item::after {content: \"\";width: 100%;border-bottom: 1px solid gray;flex-grow: 1;}#sk-container-id-1 div.sk-label:hover label.sk-toggleable__label {background-color: #d4ebff;}#sk-container-id-1 div.sk-serial::before {content: \"\";position: absolute;border-left: 1px solid gray;box-sizing: border-box;top: 0;bottom: 0;left: 50%;z-index: 0;}#sk-container-id-1 div.sk-serial {display: flex;flex-direction: column;align-items: center;background-color: white;padding-right: 0.2em;padding-left: 0.2em;position: relative;}#sk-container-id-1 div.sk-item {position: relative;z-index: 1;}#sk-container-id-1 div.sk-parallel {display: flex;align-items: stretch;justify-content: center;background-color: white;position: relative;}#sk-container-id-1 div.sk-item::before, #sk-container-id-1 div.sk-parallel-item::before {content: \"\";position: absolute;border-left: 1px solid gray;box-sizing: border-box;top: 0;bottom: 0;left: 50%;z-index: -1;}#sk-container-id-1 div.sk-parallel-item {display: flex;flex-direction: column;z-index: 1;position: relative;background-color: white;}#sk-container-id-1 div.sk-parallel-item:first-child::after {align-self: flex-end;width: 50%;}#sk-container-id-1 div.sk-parallel-item:last-child::after {align-self: flex-start;width: 50%;}#sk-container-id-1 div.sk-parallel-item:only-child::after {width: 0;}#sk-container-id-1 div.sk-dashed-wrapped {border: 1px dashed gray;margin: 0 0.4em 0.5em 0.4em;box-sizing: border-box;padding-bottom: 0.4em;background-color: white;}#sk-container-id-1 div.sk-label label {font-family: monospace;font-weight: bold;display: inline-block;line-height: 1.2em;}#sk-container-id-1 div.sk-label-container {text-align: center;}#sk-container-id-1 div.sk-container {/* jupyter's `normalize.less` sets `[hidden] { display: none; }` but bootstrap.min.css set `[hidden] { display: none !important; }` so we also need the `!important` here to be able to override the default hidden behavior on the sphinx rendered scikit-learn.org. See: https://github.com/scikit-learn/scikit-learn/issues/21755 */display: inline-block !important;position: relative;}#sk-container-id-1 div.sk-text-repr-fallback {display: none;}</style><div id=\"sk-container-id-1\" class=\"sk-top-container\"><div class=\"sk-text-repr-fallback\"><pre>LinearRegression()</pre><b>In a Jupyter environment, please rerun this cell to show the HTML representation or trust the notebook. <br />On GitHub, the HTML representation is unable to render, please try loading this page with nbviewer.org.</b></div><div class=\"sk-container\" hidden><div class=\"sk-item\"><div class=\"sk-estimator sk-toggleable\"><input class=\"sk-toggleable__control sk-hidden--visually\" id=\"sk-estimator-id-1\" type=\"checkbox\" checked><label for=\"sk-estimator-id-1\" class=\"sk-toggleable__label sk-toggleable__label-arrow\">LinearRegression</label><div class=\"sk-toggleable__content\"><pre>LinearRegression()</pre></div></div></div></div></div>"
            ],
            "text/plain": [
              "LinearRegression()"
            ]
          },
          "execution_count": 37,
          "metadata": {},
          "output_type": "execute_result"
        }
      ],
      "source": [
        "x = nivel_ed['esc_rec']\n",
        "x = np.array(x).reshape((-1,1))\n",
        "\n",
        "y = edades['P09']\n",
        "\n",
        "model = LinearRegression()\n",
        "model.fit(x, y)"
      ]
    },
    {
      "cell_type": "code",
      "execution_count": null,
      "metadata": {
        "id": "FG5IrnpRInZJ"
      },
      "outputs": [],
      "source": [
        "r2 = model.score(x,y)\n",
        "coeff = model.coef_\n",
        "intercept = model.intercept_"
      ]
    },
    {
      "cell_type": "code",
      "execution_count": null,
      "metadata": {
        "id": "VN497Y6jInZJ",
        "outputId": "3a439057-9c34-4670-fa3e-55d69c282269"
      },
      "outputs": [
        {
          "data": {
            "image/png": "[encoded data removed]",
            "text/plain": [
              "<Figure size 640x480 with 1 Axes>"
            ]
          },
          "metadata": {},
          "output_type": "display_data"
        }
      ],
      "source": [
        "fig, ax = plt.subplots()\n",
        "\n",
        "ax.scatter(x=nivel_ed['esc_rec'], y=edades['P09'], facecolor = 'lightsteelblue', edgecolors='0', linewidths=0.5)\n",
        "\n",
        "num = len(nivel_ed)\n",
        "start = nivel_ed['esc_rec'].min()\n",
        "end = nivel_ed['esc_rec'].max()\n",
        "xseq = np.linspace(start, end, num=num)\n",
        "\n",
        "ax.plot(xseq, intercept+coeff[0]*xseq, color = 'black', lw = 1.5)\n",
        "plt.axvline(x=nivel_ed['esc_rec'].mean(),  color = 'r')\n",
        "plt.axhline(y=edades['P09'].mean(), color = 'r')\n",
        "\n",
        "ax.set_title('Nivel educativo y edad (promedio por comuna)')\n",
        "ax.set_xlabel('Años de escolaridad')\n",
        "ax.set_ylabel('Edad')\n",
        "\n",
        "plt.show()"
      ]
    },
    {
      "cell_type": "code",
      "execution_count": null,
      "metadata": {
        "id": "5KY0I4SvInZK",
        "outputId": "953bf751-5b51-462e-8676-872cff990a36"
      },
      "outputs": [
        {
          "data": {
            "text/plain": [
              "-0.6094293645613259"
            ]
          },
          "execution_count": 40,
          "metadata": {},
          "output_type": "execute_result"
        }
      ],
      "source": [
        "edades['P09'].corr(nivel_ed['esc_rec'], method='pearson')"
      ]
    },
    {
      "cell_type": "code",
      "execution_count": null,
      "metadata": {
        "id": "mpUx0kcpInZK",
        "outputId": "508773e2-5af3-4973-aeae-4bde55f1c80c"
      },
      "outputs": [
        {
          "data": {
            "text/plain": [
              "esc_rec\n",
              "0.0      295151\n",
              "1.0       90889\n",
              "2.0      149166\n",
              "3.0      254301\n",
              "4.0      324740\n",
              "5.0      240218\n",
              "6.0      580612\n",
              "7.0      257821\n",
              "8.0     1095046\n",
              "9.0      384581\n",
              "10.0     718663\n",
              "11.0     436345\n",
              "12.0    4189839\n",
              "13.0     334841\n",
              "14.0     699575\n",
              "15.0     709520\n",
              "16.0     599405\n",
              "17.0    1346449\n",
              "18.0      24652\n",
              "19.0     169194\n",
              "20.0      19094\n",
              "21.0      31749\n",
              "dtype: int64"
            ]
          },
          "execution_count": 41,
          "metadata": {},
          "output_type": "execute_result"
        }
      ],
      "source": [
        "censo_adult.value_counts(subset = 'esc_rec').sort_index()"
      ]
    },
    {
      "cell_type": "markdown",
      "metadata": {
        "id": "sGFOiGOwInZK"
      },
      "source": [
        "Posteriormente se prepara el dataset para realizar una matriz de correlación"
      ]
    },
    {
      "cell_type": "code",
      "execution_count": null,
      "metadata": {
        "id": "u3OfKbBCInZK",
        "outputId": "ccffd542-8328-4404-b265-02632f532629"
      },
      "outputs": [
        {
          "name": "stderr",
          "output_type": "stream",
          "text": [
            "C:\\Users\\benja\\AppData\\Local\\Temp\\ipykernel_15816\\2898121761.py:2: SettingWithCopyWarning: \n",
            "A value is trying to be set on a copy of a slice from a DataFrame.\n",
            "Try using .loc[row_indexer,col_indexer] = value instead\n",
            "\n",
            "See the caveats in the documentation: https://pandas.pydata.org/pandas-docs/stable/user_guide/indexing.html#returning-a-view-versus-a-copy\n",
            "  censo_paracorr['hom'] = np.where(censo_paracorr['P08'] == 1, 1, 0)\n"
          ]
        }
      ],
      "source": [
        "censo_paracorr = censo_adult[['COMUNA', 'P08', 'P09', 'esc_rec']]\n",
        "censo_paracorr['hom'] = np.where(censo_paracorr['P08'] == 1, 1, 0)\n",
        "\n",
        "#censo_paracorr.head()\n",
        "\n",
        "censo_paracorr = censo_paracorr.groupby('COMUNA').agg('mean').reset_index().drop(columns = ['COMUNA','P08'])\n",
        "\n",
        "corr_mat = censo_paracorr.corr()"
      ]
    },
    {
      "cell_type": "code",
      "execution_count": null,
      "metadata": {
        "id": "fYf2y9PQInZL",
        "outputId": "972e3529-9d80-4b51-9adb-4ece977d636f"
      },
      "outputs": [
        {
          "data": {
            "image/png": "[encoded data removed]",
            "text/plain": [
              "<Figure size 640x480 with 2 Axes>"
            ]
          },
          "metadata": {},
          "output_type": "display_data"
        }
      ],
      "source": [
        "import seaborn as sns\n",
        "\n",
        "sns.heatmap(corr_mat, cmap='PuOr')\n",
        "\n",
        "plt.show()"
      ]
    },
    {
      "cell_type": "markdown",
      "metadata": {
        "id": "fgfsp9-YInZL"
      },
      "source": [
        "Finalmente se prepara una nueva versión del dataset que quede disponible para unirse con los datos electorales."
      ]
    },
    {
      "cell_type": "code",
      "execution_count": null,
      "metadata": {
        "id": "oIzUUUc0InZL"
      },
      "outputs": [],
      "source": [
        "censo_union = censo_adult.groupby('COMUNA').agg('mean').reset_index()"
      ]
    },
    {
      "cell_type": "code",
      "execution_count": null,
      "metadata": {
        "id": "L8hYmf8dInZL"
      },
      "outputs": [],
      "source": [
        "censo_union = censo_union.drop(columns=['P13', 'P14', 'P15', 'P15A', 'ESCOLARIDAD'])"
      ]
    },
    {
      "cell_type": "code",
      "execution_count": null,
      "metadata": {
        "id": "kVF8r8QPInZL",
        "outputId": "e596c0e2-b3ff-4be1-ce5d-5d2a6ac7e689"
      },
      "outputs": [
        {
          "name": "stdout",
          "output_type": "stream",
          "text": [
            "<class 'pandas.core.frame.DataFrame'>\n",
            "RangeIndex: 346 entries, 0 to 345\n",
            "Data columns (total 5 columns):\n",
            " #   Column   Non-Null Count  Dtype  \n",
            "---  ------   --------------  -----  \n",
            " 0   COMUNA   346 non-null    int64  \n",
            " 1   P08      346 non-null    float64\n",
            " 2   P09      346 non-null    float64\n",
            " 3   hom      346 non-null    float64\n",
            " 4   esc_rec  346 non-null    float64\n",
            "dtypes: float64(4), int64(1)\n",
            "memory usage: 13.6 KB\n"
          ]
        }
      ],
      "source": [
        "censo_union.info()"
      ]
    },
    {
      "cell_type": "markdown",
      "metadata": {
        "id": "SksTjVYfInZM"
      },
      "source": [
        "## Datos electorales Chile"
      ]
    },
    {
      "cell_type": "code",
      "execution_count": null,
      "metadata": {
        "id": "Rf5BHoH4InZM"
      },
      "outputs": [],
      "source": [
        "# Cargamos los resultados electorales por comuna\n",
        "voto_com = pd.read_excel('C:/Users/benja/OneDrive - Instituto Nacional de Estadisticas/PAECIS/TIF/Servel Chile/2021_11_Presidencial_1V_Datos_Eleccion.xlsx',\n",
        "                         sheet_name='Votación comunal en Chile', skiprows=6)"
      ]
    },
    {
      "cell_type": "code",
      "execution_count": null,
      "metadata": {
        "id": "1QoQV7UxInZM",
        "outputId": "e084d3f5-889c-434a-cf4c-3e1b2d8dcfa3"
      },
      "outputs": [
        {
          "data": {
            "text/html": [
              "<div>\n",
              "<style scoped>\n",
              "    .dataframe tbody tr th:only-of-type {\n",
              "        vertical-align: middle;\n",
              "    }\n",
              "\n",
              "    .dataframe tbody tr th {\n",
              "        vertical-align: top;\n",
              "    }\n",
              "\n",
              "    .dataframe thead th {\n",
              "        text-align: right;\n",
              "    }\n",
              "</style>\n",
              "<table border=\"1\" class=\"dataframe\">\n",
              "  <thead>\n",
              "    <tr style=\"text-align: right;\">\n",
              "      <th></th>\n",
              "      <th>Nro Región</th>\n",
              "      <th>Región</th>\n",
              "      <th>Circunscripción senatorial</th>\n",
              "      <th>Distrito</th>\n",
              "      <th>Comuna</th>\n",
              "      <th>Nro.Voto</th>\n",
              "      <th>Nombres</th>\n",
              "      <th>Primer Apellido</th>\n",
              "      <th>Segundo Apellido</th>\n",
              "      <th>Votos</th>\n",
              "      <th>Nominado</th>\n",
              "    </tr>\n",
              "  </thead>\n",
              "  <tbody>\n",
              "    <tr>\n",
              "      <th>0</th>\n",
              "      <td>1</td>\n",
              "      <td>DE TARAPACA</td>\n",
              "      <td>CIRCUNSCRIPCION SENATORIAL 2</td>\n",
              "      <td>DISTRITO 2</td>\n",
              "      <td>ALTO HOSPICIO</td>\n",
              "      <td>1.0</td>\n",
              "      <td>GABRIEL</td>\n",
              "      <td>BORIC</td>\n",
              "      <td>FONT</td>\n",
              "      <td>3183</td>\n",
              "      <td>SELECCIONADO SEGUNDA VOTACION</td>\n",
              "    </tr>\n",
              "    <tr>\n",
              "      <th>1</th>\n",
              "      <td>1</td>\n",
              "      <td>DE TARAPACA</td>\n",
              "      <td>CIRCUNSCRIPCION SENATORIAL 2</td>\n",
              "      <td>DISTRITO 2</td>\n",
              "      <td>ALTO HOSPICIO</td>\n",
              "      <td>2.0</td>\n",
              "      <td>JOSE ANTONIO</td>\n",
              "      <td>KAST</td>\n",
              "      <td>RIST</td>\n",
              "      <td>5860</td>\n",
              "      <td>SELECCIONADO SEGUNDA VOTACION</td>\n",
              "    </tr>\n",
              "    <tr>\n",
              "      <th>2</th>\n",
              "      <td>1</td>\n",
              "      <td>DE TARAPACA</td>\n",
              "      <td>CIRCUNSCRIPCION SENATORIAL 2</td>\n",
              "      <td>DISTRITO 2</td>\n",
              "      <td>ALTO HOSPICIO</td>\n",
              "      <td>3.0</td>\n",
              "      <td>YASNA</td>\n",
              "      <td>PROVOSTE</td>\n",
              "      <td>CAMPILLAY</td>\n",
              "      <td>2212</td>\n",
              "      <td>NaN</td>\n",
              "    </tr>\n",
              "    <tr>\n",
              "      <th>3</th>\n",
              "      <td>1</td>\n",
              "      <td>DE TARAPACA</td>\n",
              "      <td>CIRCUNSCRIPCION SENATORIAL 2</td>\n",
              "      <td>DISTRITO 2</td>\n",
              "      <td>ALTO HOSPICIO</td>\n",
              "      <td>4.0</td>\n",
              "      <td>SEBASTIAN</td>\n",
              "      <td>SICHEL</td>\n",
              "      <td>RAMIREZ</td>\n",
              "      <td>1212</td>\n",
              "      <td>NaN</td>\n",
              "    </tr>\n",
              "    <tr>\n",
              "      <th>4</th>\n",
              "      <td>1</td>\n",
              "      <td>DE TARAPACA</td>\n",
              "      <td>CIRCUNSCRIPCION SENATORIAL 2</td>\n",
              "      <td>DISTRITO 2</td>\n",
              "      <td>ALTO HOSPICIO</td>\n",
              "      <td>5.0</td>\n",
              "      <td>EDUARDO</td>\n",
              "      <td>ARTES</td>\n",
              "      <td>BRICHETTI</td>\n",
              "      <td>263</td>\n",
              "      <td>NaN</td>\n",
              "    </tr>\n",
              "  </tbody>\n",
              "</table>\n",
              "</div>"
            ],
            "text/plain": [
              "   Nro Región       Región    Circunscripción senatorial    Distrito  \\\n",
              "0           1  DE TARAPACA  CIRCUNSCRIPCION SENATORIAL 2  DISTRITO 2   \n",
              "1           1  DE TARAPACA  CIRCUNSCRIPCION SENATORIAL 2  DISTRITO 2   \n",
              "2           1  DE TARAPACA  CIRCUNSCRIPCION SENATORIAL 2  DISTRITO 2   \n",
              "3           1  DE TARAPACA  CIRCUNSCRIPCION SENATORIAL 2  DISTRITO 2   \n",
              "4           1  DE TARAPACA  CIRCUNSCRIPCION SENATORIAL 2  DISTRITO 2   \n",
              "\n",
              "          Comuna  Nro.Voto       Nombres Primer Apellido Segundo Apellido  \\\n",
              "0  ALTO HOSPICIO       1.0       GABRIEL           BORIC             FONT   \n",
              "1  ALTO HOSPICIO       2.0  JOSE ANTONIO            KAST             RIST   \n",
              "2  ALTO HOSPICIO       3.0         YASNA        PROVOSTE        CAMPILLAY   \n",
              "3  ALTO HOSPICIO       4.0     SEBASTIAN          SICHEL          RAMIREZ   \n",
              "4  ALTO HOSPICIO       5.0       EDUARDO           ARTES        BRICHETTI   \n",
              "\n",
              "   Votos                       Nominado  \n",
              "0   3183  SELECCIONADO SEGUNDA VOTACION  \n",
              "1   5860  SELECCIONADO SEGUNDA VOTACION  \n",
              "2   2212                            NaN  \n",
              "3   1212                            NaN  \n",
              "4    263                            NaN  "
            ]
          },
          "execution_count": 48,
          "metadata": {},
          "output_type": "execute_result"
        }
      ],
      "source": [
        "voto_com.head()"
      ]
    },
    {
      "cell_type": "code",
      "execution_count": null,
      "metadata": {
        "id": "dyi_HnyvInZM",
        "outputId": "0856d7b4-6f2a-414a-db24-acc906b59fa1"
      },
      "outputs": [
        {
          "data": {
            "text/plain": [
              "Nro.Voto\n",
              "1.0    1796851\n",
              "2.0    1954607\n",
              "3.0     813407\n",
              "4.0     894838\n",
              "5.0     102209\n",
              "6.0     533554\n",
              "7.0     899067\n",
              "Name: Votos, dtype: int64"
            ]
          },
          "execution_count": 49,
          "metadata": {},
          "output_type": "execute_result"
        }
      ],
      "source": [
        "# Resultados totales\n",
        "\n",
        "res_total = voto_com.groupby('Nro.Voto')['Votos'].sum()\n",
        "\n",
        "res_total"
      ]
    },
    {
      "cell_type": "code",
      "execution_count": null,
      "metadata": {
        "id": "14KcU7dyInZN"
      },
      "outputs": [],
      "source": [
        "#Calculamos los votos de cada candidato por comuna\n",
        "porc_com = voto_com.groupby(['Comuna', 'Nro.Voto']).agg('sum','Votos')"
      ]
    },
    {
      "cell_type": "code",
      "execution_count": null,
      "metadata": {
        "id": "czaqR3lRInZN"
      },
      "outputs": [],
      "source": [
        "porc_com.to_csv('C:/Users/benja/OneDrive - Instituto Nacional de Estadisticas/PAECIS/TIF/Servel Chile/votación_1v2021_comunas.csv')"
      ]
    },
    {
      "cell_type": "code",
      "execution_count": null,
      "metadata": {
        "id": "gJmKF_yKInZN"
      },
      "outputs": [],
      "source": [
        "# Calculamos el total de votos de la comuna\n",
        "\n",
        "total_com = porc_com.groupby('Comuna').agg('sum', 'Votos')"
      ]
    },
    {
      "cell_type": "code",
      "execution_count": null,
      "metadata": {
        "id": "rLawDODMInZN"
      },
      "outputs": [],
      "source": [
        "total_com = total_com.rename(columns={'Votos':'Total votos'}).drop(columns=['Nro Región'])"
      ]
    },
    {
      "cell_type": "code",
      "execution_count": null,
      "metadata": {
        "id": "60B8KrM2InZO"
      },
      "outputs": [],
      "source": [
        "porc_com = porc_com.join(total_com, on = 'Comuna', how='left')"
      ]
    },
    {
      "cell_type": "code",
      "execution_count": null,
      "metadata": {
        "id": "4IfQWcl8InZO"
      },
      "outputs": [],
      "source": [
        "# Con el total comunal, podemos calcular el porcentaje de votos a nivel comunal\n",
        "porc_com['porc_voto'] = porc_com['Votos']/porc_com['Total votos']"
      ]
    },
    {
      "cell_type": "code",
      "execution_count": null,
      "metadata": {
        "id": "eTXVOvRyInZO"
      },
      "outputs": [],
      "source": [
        "porc_com= porc_com.reset_index().drop(columns=['Votos', 'Total votos', 'Nro Región'])"
      ]
    },
    {
      "cell_type": "code",
      "execution_count": null,
      "metadata": {
        "id": "5nVo3xTCInZO",
        "outputId": "9b049f32-5a6a-430e-afac-a97ec5b76873"
      },
      "outputs": [
        {
          "data": {
            "text/html": [
              "<div>\n",
              "<style scoped>\n",
              "    .dataframe tbody tr th:only-of-type {\n",
              "        vertical-align: middle;\n",
              "    }\n",
              "\n",
              "    .dataframe tbody tr th {\n",
              "        vertical-align: top;\n",
              "    }\n",
              "\n",
              "    .dataframe thead th {\n",
              "        text-align: right;\n",
              "    }\n",
              "</style>\n",
              "<table border=\"1\" class=\"dataframe\">\n",
              "  <thead>\n",
              "    <tr style=\"text-align: right;\">\n",
              "      <th></th>\n",
              "      <th>Comuna</th>\n",
              "      <th>Nro.Voto</th>\n",
              "      <th>porc_voto</th>\n",
              "    </tr>\n",
              "  </thead>\n",
              "  <tbody>\n",
              "    <tr>\n",
              "      <th>0</th>\n",
              "      <td>ALGARROBO</td>\n",
              "      <td>1.0</td>\n",
              "      <td>0.242580</td>\n",
              "    </tr>\n",
              "    <tr>\n",
              "      <th>1</th>\n",
              "      <td>ALGARROBO</td>\n",
              "      <td>2.0</td>\n",
              "      <td>0.352833</td>\n",
              "    </tr>\n",
              "    <tr>\n",
              "      <th>2</th>\n",
              "      <td>ALGARROBO</td>\n",
              "      <td>3.0</td>\n",
              "      <td>0.100196</td>\n",
              "    </tr>\n",
              "    <tr>\n",
              "      <th>3</th>\n",
              "      <td>ALGARROBO</td>\n",
              "      <td>4.0</td>\n",
              "      <td>0.165808</td>\n",
              "    </tr>\n",
              "    <tr>\n",
              "      <th>4</th>\n",
              "      <td>ALGARROBO</td>\n",
              "      <td>5.0</td>\n",
              "      <td>0.011038</td>\n",
              "    </tr>\n",
              "    <tr>\n",
              "      <th>...</th>\n",
              "      <td>...</td>\n",
              "      <td>...</td>\n",
              "      <td>...</td>\n",
              "    </tr>\n",
              "    <tr>\n",
              "      <th>2417</th>\n",
              "      <td>ÑUÑOA</td>\n",
              "      <td>3.0</td>\n",
              "      <td>0.100824</td>\n",
              "    </tr>\n",
              "    <tr>\n",
              "      <th>2418</th>\n",
              "      <td>ÑUÑOA</td>\n",
              "      <td>4.0</td>\n",
              "      <td>0.189196</td>\n",
              "    </tr>\n",
              "    <tr>\n",
              "      <th>2419</th>\n",
              "      <td>ÑUÑOA</td>\n",
              "      <td>5.0</td>\n",
              "      <td>0.014916</td>\n",
              "    </tr>\n",
              "    <tr>\n",
              "      <th>2420</th>\n",
              "      <td>ÑUÑOA</td>\n",
              "      <td>6.0</td>\n",
              "      <td>0.037338</td>\n",
              "    </tr>\n",
              "    <tr>\n",
              "      <th>2421</th>\n",
              "      <td>ÑUÑOA</td>\n",
              "      <td>7.0</td>\n",
              "      <td>0.022537</td>\n",
              "    </tr>\n",
              "  </tbody>\n",
              "</table>\n",
              "<p>2422 rows × 3 columns</p>\n",
              "</div>"
            ],
            "text/plain": [
              "         Comuna  Nro.Voto  porc_voto\n",
              "0     ALGARROBO       1.0   0.242580\n",
              "1     ALGARROBO       2.0   0.352833\n",
              "2     ALGARROBO       3.0   0.100196\n",
              "3     ALGARROBO       4.0   0.165808\n",
              "4     ALGARROBO       5.0   0.011038\n",
              "...         ...       ...        ...\n",
              "2417      ÑUÑOA       3.0   0.100824\n",
              "2418      ÑUÑOA       4.0   0.189196\n",
              "2419      ÑUÑOA       5.0   0.014916\n",
              "2420      ÑUÑOA       6.0   0.037338\n",
              "2421      ÑUÑOA       7.0   0.022537\n",
              "\n",
              "[2422 rows x 3 columns]"
            ]
          },
          "execution_count": 57,
          "metadata": {},
          "output_type": "execute_result"
        }
      ],
      "source": [
        "porc_com"
      ]
    },
    {
      "cell_type": "code",
      "execution_count": null,
      "metadata": {
        "id": "3D49SWFbInZO",
        "outputId": "7b175494-2818-4278-b26f-46b814256ef9"
      },
      "outputs": [
        {
          "name": "stdout",
          "output_type": "stream",
          "text": [
            "<class 'pandas.core.frame.DataFrame'>\n",
            "RangeIndex: 2422 entries, 0 to 2421\n",
            "Data columns (total 3 columns):\n",
            " #   Column     Non-Null Count  Dtype  \n",
            "---  ------     --------------  -----  \n",
            " 0   Comuna     2422 non-null   object \n",
            " 1   Nro.Voto   2422 non-null   float64\n",
            " 2   porc_voto  2422 non-null   float64\n",
            "dtypes: float64(2), object(1)\n",
            "memory usage: 56.9+ KB\n"
          ]
        }
      ],
      "source": [
        "porc_com.info()"
      ]
    },
    {
      "cell_type": "code",
      "execution_count": null,
      "metadata": {
        "id": "qbKnkoUvInZP",
        "outputId": "e56dd920-99a7-49b9-b1f0-88a9dda5fe8f"
      },
      "outputs": [
        {
          "data": {
            "text/html": [
              "<div>\n",
              "<style scoped>\n",
              "    .dataframe tbody tr th:only-of-type {\n",
              "        vertical-align: middle;\n",
              "    }\n",
              "\n",
              "    .dataframe tbody tr th {\n",
              "        vertical-align: top;\n",
              "    }\n",
              "\n",
              "    .dataframe thead th {\n",
              "        text-align: right;\n",
              "    }\n",
              "</style>\n",
              "<table border=\"1\" class=\"dataframe\">\n",
              "  <thead>\n",
              "    <tr style=\"text-align: right;\">\n",
              "      <th></th>\n",
              "      <th>Comuna</th>\n",
              "      <th>Nro.Voto</th>\n",
              "      <th>porc_voto</th>\n",
              "      <th>Candidatos</th>\n",
              "    </tr>\n",
              "  </thead>\n",
              "  <tbody>\n",
              "    <tr>\n",
              "      <th>0</th>\n",
              "      <td>ALGARROBO</td>\n",
              "      <td>1.0</td>\n",
              "      <td>0.242580</td>\n",
              "      <td>Boric</td>\n",
              "    </tr>\n",
              "    <tr>\n",
              "      <th>1</th>\n",
              "      <td>ALGARROBO</td>\n",
              "      <td>2.0</td>\n",
              "      <td>0.352833</td>\n",
              "      <td>Kast</td>\n",
              "    </tr>\n",
              "    <tr>\n",
              "      <th>2</th>\n",
              "      <td>ALGARROBO</td>\n",
              "      <td>3.0</td>\n",
              "      <td>0.100196</td>\n",
              "      <td>Provoste</td>\n",
              "    </tr>\n",
              "    <tr>\n",
              "      <th>3</th>\n",
              "      <td>ALGARROBO</td>\n",
              "      <td>4.0</td>\n",
              "      <td>0.165808</td>\n",
              "      <td>Sichel</td>\n",
              "    </tr>\n",
              "    <tr>\n",
              "      <th>4</th>\n",
              "      <td>ALGARROBO</td>\n",
              "      <td>5.0</td>\n",
              "      <td>0.011038</td>\n",
              "      <td>Artés</td>\n",
              "    </tr>\n",
              "    <tr>\n",
              "      <th>...</th>\n",
              "      <td>...</td>\n",
              "      <td>...</td>\n",
              "      <td>...</td>\n",
              "      <td>...</td>\n",
              "    </tr>\n",
              "    <tr>\n",
              "      <th>2417</th>\n",
              "      <td>ÑUÑOA</td>\n",
              "      <td>3.0</td>\n",
              "      <td>0.100824</td>\n",
              "      <td>Provoste</td>\n",
              "    </tr>\n",
              "    <tr>\n",
              "      <th>2418</th>\n",
              "      <td>ÑUÑOA</td>\n",
              "      <td>4.0</td>\n",
              "      <td>0.189196</td>\n",
              "      <td>Sichel</td>\n",
              "    </tr>\n",
              "    <tr>\n",
              "      <th>2419</th>\n",
              "      <td>ÑUÑOA</td>\n",
              "      <td>5.0</td>\n",
              "      <td>0.014916</td>\n",
              "      <td>Artés</td>\n",
              "    </tr>\n",
              "    <tr>\n",
              "      <th>2420</th>\n",
              "      <td>ÑUÑOA</td>\n",
              "      <td>6.0</td>\n",
              "      <td>0.037338</td>\n",
              "      <td>MEO</td>\n",
              "    </tr>\n",
              "    <tr>\n",
              "      <th>2421</th>\n",
              "      <td>ÑUÑOA</td>\n",
              "      <td>7.0</td>\n",
              "      <td>0.022537</td>\n",
              "      <td>Parisi</td>\n",
              "    </tr>\n",
              "  </tbody>\n",
              "</table>\n",
              "<p>2422 rows × 4 columns</p>\n",
              "</div>"
            ],
            "text/plain": [
              "         Comuna  Nro.Voto  porc_voto Candidatos\n",
              "0     ALGARROBO       1.0   0.242580      Boric\n",
              "1     ALGARROBO       2.0   0.352833       Kast\n",
              "2     ALGARROBO       3.0   0.100196   Provoste\n",
              "3     ALGARROBO       4.0   0.165808     Sichel\n",
              "4     ALGARROBO       5.0   0.011038      Artés\n",
              "...         ...       ...        ...        ...\n",
              "2417      ÑUÑOA       3.0   0.100824   Provoste\n",
              "2418      ÑUÑOA       4.0   0.189196     Sichel\n",
              "2419      ÑUÑOA       5.0   0.014916      Artés\n",
              "2420      ÑUÑOA       6.0   0.037338        MEO\n",
              "2421      ÑUÑOA       7.0   0.022537     Parisi\n",
              "\n",
              "[2422 rows x 4 columns]"
            ]
          },
          "execution_count": 59,
          "metadata": {},
          "output_type": "execute_result"
        }
      ],
      "source": [
        "# Asignamos el nombre del candidato a su número de voto (número en la papeleta)\n",
        "mapeo = {1.0:'Boric', 2.0:'Kast', 3.0:'Provoste', 4.0:'Sichel', 5.0:'Artés', 6.0:'MEO', 7.0:'Parisi'}\n",
        "\n",
        "porc_com['Candidatos'] = porc_com['Nro.Voto'].map(mapeo)\n",
        "\n",
        "porc_com"
      ]
    },
    {
      "cell_type": "code",
      "execution_count": null,
      "metadata": {
        "id": "wxsWAWzqInZP"
      },
      "outputs": [],
      "source": [
        "# votos wider\n",
        "\n",
        "voto_wide = porc_com.pivot(columns= 'Candidatos', values='porc_voto', index='Comuna').reset_index()\n",
        "\n",
        "#voto_wide = voto_wide.rename(columns={'1.0':'Boric', '2.0':'Kast', '3.0':'Provoste', '4.0':'Sichel', '5.0':'Artés', '6.0':'MEO', '7.0':'Parisi'})"
      ]
    },
    {
      "cell_type": "code",
      "execution_count": null,
      "metadata": {
        "id": "kUcBIhW_InZP",
        "outputId": "c930cd98-80d8-431d-ae9b-a1170273bb25"
      },
      "outputs": [
        {
          "data": {
            "text/html": [
              "<div>\n",
              "<style scoped>\n",
              "    .dataframe tbody tr th:only-of-type {\n",
              "        vertical-align: middle;\n",
              "    }\n",
              "\n",
              "    .dataframe tbody tr th {\n",
              "        vertical-align: top;\n",
              "    }\n",
              "\n",
              "    .dataframe thead th {\n",
              "        text-align: right;\n",
              "    }\n",
              "</style>\n",
              "<table border=\"1\" class=\"dataframe\">\n",
              "  <thead>\n",
              "    <tr style=\"text-align: right;\">\n",
              "      <th>Candidatos</th>\n",
              "      <th>Comuna</th>\n",
              "      <th>Artés</th>\n",
              "      <th>Boric</th>\n",
              "      <th>Kast</th>\n",
              "      <th>MEO</th>\n",
              "      <th>Parisi</th>\n",
              "      <th>Provoste</th>\n",
              "      <th>Sichel</th>\n",
              "    </tr>\n",
              "  </thead>\n",
              "  <tbody>\n",
              "    <tr>\n",
              "      <th>0</th>\n",
              "      <td>ALGARROBO</td>\n",
              "      <td>0.011038</td>\n",
              "      <td>0.242580</td>\n",
              "      <td>0.352833</td>\n",
              "      <td>0.057886</td>\n",
              "      <td>0.069659</td>\n",
              "      <td>0.100196</td>\n",
              "      <td>0.165808</td>\n",
              "    </tr>\n",
              "    <tr>\n",
              "      <th>1</th>\n",
              "      <td>ALHUE</td>\n",
              "      <td>0.012515</td>\n",
              "      <td>0.256762</td>\n",
              "      <td>0.188535</td>\n",
              "      <td>0.060961</td>\n",
              "      <td>0.142107</td>\n",
              "      <td>0.209931</td>\n",
              "      <td>0.129189</td>\n",
              "    </tr>\n",
              "    <tr>\n",
              "      <th>2</th>\n",
              "      <td>ALTO BIOBIO</td>\n",
              "      <td>0.021657</td>\n",
              "      <td>0.204115</td>\n",
              "      <td>0.271792</td>\n",
              "      <td>0.064429</td>\n",
              "      <td>0.138062</td>\n",
              "      <td>0.216026</td>\n",
              "      <td>0.083920</td>\n",
              "    </tr>\n",
              "    <tr>\n",
              "      <th>3</th>\n",
              "      <td>ALTO DEL CARMEN</td>\n",
              "      <td>0.005685</td>\n",
              "      <td>0.134367</td>\n",
              "      <td>0.136951</td>\n",
              "      <td>0.028941</td>\n",
              "      <td>0.188630</td>\n",
              "      <td>0.460465</td>\n",
              "      <td>0.044961</td>\n",
              "    </tr>\n",
              "    <tr>\n",
              "      <th>4</th>\n",
              "      <td>ALTO HOSPICIO</td>\n",
              "      <td>0.010811</td>\n",
              "      <td>0.130848</td>\n",
              "      <td>0.240895</td>\n",
              "      <td>0.070377</td>\n",
              "      <td>0.406314</td>\n",
              "      <td>0.090932</td>\n",
              "      <td>0.049823</td>\n",
              "    </tr>\n",
              "  </tbody>\n",
              "</table>\n",
              "</div>"
            ],
            "text/plain": [
              "Candidatos           Comuna     Artés     Boric      Kast       MEO    Parisi  \\\n",
              "0                 ALGARROBO  0.011038  0.242580  0.352833  0.057886  0.069659   \n",
              "1                     ALHUE  0.012515  0.256762  0.188535  0.060961  0.142107   \n",
              "2               ALTO BIOBIO  0.021657  0.204115  0.271792  0.064429  0.138062   \n",
              "3           ALTO DEL CARMEN  0.005685  0.134367  0.136951  0.028941  0.188630   \n",
              "4             ALTO HOSPICIO  0.010811  0.130848  0.240895  0.070377  0.406314   \n",
              "\n",
              "Candidatos  Provoste    Sichel  \n",
              "0           0.100196  0.165808  \n",
              "1           0.209931  0.129189  \n",
              "2           0.216026  0.083920  \n",
              "3           0.460465  0.044961  \n",
              "4           0.090932  0.049823  "
            ]
          },
          "execution_count": 61,
          "metadata": {},
          "output_type": "execute_result"
        }
      ],
      "source": [
        "voto_wide.head()"
      ]
    },
    {
      "cell_type": "markdown",
      "metadata": {
        "id": "imB_mIImInZP"
      },
      "source": [
        "## Unión de censo y votos\n",
        "\n",
        "El desafío ahora es unir las bases censales procesadas y las electorales, a nivel de comunas. El problema a resolver inicialmente es la identificación de comunas, ya que en el censo se identifican por el Código Único Territorial (CUT) y en los datos electorales se usa el nombre de la comuna."
      ]
    },
    {
      "cell_type": "code",
      "execution_count": null,
      "metadata": {
        "id": "Z68bwMgKInZQ",
        "outputId": "5700f05e-d2cd-4682-bfdd-4bd0b96aed0e"
      },
      "outputs": [
        {
          "name": "stdout",
          "output_type": "stream",
          "text": [
            "Collecting package metadata (current_repodata.json): ...working... done\n",
            "Solving environment: ...working... done\n",
            "\n",
            "## Package Plan ##\n",
            "\n",
            "  environment location: c:\\Users\\benja\\anaconda3\n",
            "\n",
            "  added / updated specs:\n",
            "    - xlrd\n",
            "\n",
            "\n",
            "The following packages will be downloaded:\n",
            "\n",
            "    package                    |            build\n",
            "    ---------------------------|-----------------\n",
            "    certifi-2024.6.2           |   py39haa95532_0         161 KB\n",
            "    xlrd-2.0.1                 |     pyhd3eb1b0_1          97 KB\n",
            "    ------------------------------------------------------------\n",
            "                                           Total:         258 KB\n",
            "\n",
            "The following NEW packages will be INSTALLED:\n",
            "\n",
            "  xlrd               pkgs/main/noarch::xlrd-2.0.1-pyhd3eb1b0_1 None\n",
            "\n",
            "The following packages will be UPDATED:\n",
            "\n",
            "  certifi                           2024.2.2-py39haa95532_0 --> 2024.6.2-py39haa95532_0 None\n",
            "  openssl                                 3.0.13-h2bbff1b_0 --> 3.0.13-h2bbff1b_2 None\n",
            "\n",
            "\n",
            "\n",
            "Downloading and Extracting Packages\n",
            "\n",
            "certifi-2024.6.2     | 161 KB    |            |   0% \n",
            "certifi-2024.6.2     | 161 KB    | 9          |  10% \n",
            "certifi-2024.6.2     | 161 KB    | ########## | 100% \n",
            "\n",
            "xlrd-2.0.1           | 97 KB     |            |   0% \n",
            "xlrd-2.0.1           | 97 KB     | ########## | 100% \n",
            "xlrd-2.0.1           | 97 KB     | ########## | 100% \n",
            "Preparing transaction: ...working... done\n",
            "Verifying transaction: ...working... done\n",
            "Executing transaction: ...working... done\n",
            "Retrieving notices: ...working... done\n",
            "\n",
            "Note: you may need to restart the kernel to use updated packages.\n"
          ]
        },
        {
          "name": "stderr",
          "output_type": "stream",
          "text": [
            "\n",
            "\n",
            "==> WARNING: A newer version of conda exists. <==\n",
            "  current version: 22.9.0\n",
            "  latest version: 24.5.0\n",
            "\n",
            "Please update conda by running\n",
            "\n",
            "    $ conda update -n base -c defaults conda\n",
            "\n",
            "\n"
          ]
        }
      ],
      "source": [
        "#%conda install xlrd"
      ]
    },
    {
      "cell_type": "code",
      "execution_count": null,
      "metadata": {
        "id": "jweheNKnInZQ"
      },
      "outputs": [],
      "source": [
        "# El archivo cargado contiene la correspondencia entre el nombre de la comuna y el código único territorial\n",
        "BASE_CUT = pd.read_excel('C:/Users/benja/OneDrive - Instituto Nacional de Estadisticas/PAECIS/TIF/CUT_2018_v04.xls')"
      ]
    },
    {
      "cell_type": "code",
      "execution_count": null,
      "metadata": {
        "id": "QwXRl2-2InZQ",
        "outputId": "7fc5c3c9-c790-45fd-b6bd-207cfc14f8f8"
      },
      "outputs": [
        {
          "name": "stdout",
          "output_type": "stream",
          "text": [
            "<class 'pandas.core.frame.DataFrame'>\n",
            "RangeIndex: 346 entries, 0 to 345\n",
            "Data columns (total 7 columns):\n",
            " #   Column              Non-Null Count  Dtype \n",
            "---  ------              --------------  ----- \n",
            " 0   Código Región       346 non-null    int64 \n",
            " 1   Nombre Región       346 non-null    object\n",
            " 2   Abreviatura Región  346 non-null    object\n",
            " 3   Código Provincia    346 non-null    int64 \n",
            " 4   Nombre Provincia    346 non-null    object\n",
            " 5   Código Comuna 2018  346 non-null    int64 \n",
            " 6   Nombre Comuna       346 non-null    object\n",
            "dtypes: int64(3), object(4)\n",
            "memory usage: 19.0+ KB\n"
          ]
        }
      ],
      "source": [
        "BASE_CUT.info()"
      ]
    },
    {
      "cell_type": "code",
      "execution_count": null,
      "metadata": {
        "id": "6W8o7xfeInZQ"
      },
      "outputs": [],
      "source": [
        "# Se transforma a mayúscula para permitir la unión\n",
        "BASE_CUT['Comuna'] = BASE_CUT['Nombre Comuna'].apply(lambda x: x.upper())"
      ]
    },
    {
      "cell_type": "code",
      "execution_count": null,
      "metadata": {
        "id": "lwnhXTlBInZR",
        "outputId": "2bbf6711-6598-452e-ca28-e897df9c87e1"
      },
      "outputs": [
        {
          "data": {
            "text/html": [
              "<div>\n",
              "<style scoped>\n",
              "    .dataframe tbody tr th:only-of-type {\n",
              "        vertical-align: middle;\n",
              "    }\n",
              "\n",
              "    .dataframe tbody tr th {\n",
              "        vertical-align: top;\n",
              "    }\n",
              "\n",
              "    .dataframe thead th {\n",
              "        text-align: right;\n",
              "    }\n",
              "</style>\n",
              "<table border=\"1\" class=\"dataframe\">\n",
              "  <thead>\n",
              "    <tr style=\"text-align: right;\">\n",
              "      <th></th>\n",
              "      <th>Código Región</th>\n",
              "      <th>Nombre Región</th>\n",
              "      <th>Abreviatura Región</th>\n",
              "      <th>Código Provincia</th>\n",
              "      <th>Nombre Provincia</th>\n",
              "      <th>Código Comuna 2018</th>\n",
              "      <th>Nombre Comuna</th>\n",
              "      <th>Comuna</th>\n",
              "    </tr>\n",
              "  </thead>\n",
              "  <tbody>\n",
              "    <tr>\n",
              "      <th>0</th>\n",
              "      <td>1</td>\n",
              "      <td>Tarapacá</td>\n",
              "      <td>TPCA</td>\n",
              "      <td>11</td>\n",
              "      <td>Iquique</td>\n",
              "      <td>1101</td>\n",
              "      <td>Iquique</td>\n",
              "      <td>IQUIQUE</td>\n",
              "    </tr>\n",
              "    <tr>\n",
              "      <th>1</th>\n",
              "      <td>1</td>\n",
              "      <td>Tarapacá</td>\n",
              "      <td>TPCA</td>\n",
              "      <td>11</td>\n",
              "      <td>Iquique</td>\n",
              "      <td>1107</td>\n",
              "      <td>Alto Hospicio</td>\n",
              "      <td>ALTO HOSPICIO</td>\n",
              "    </tr>\n",
              "    <tr>\n",
              "      <th>2</th>\n",
              "      <td>1</td>\n",
              "      <td>Tarapacá</td>\n",
              "      <td>TPCA</td>\n",
              "      <td>14</td>\n",
              "      <td>Tamarugal</td>\n",
              "      <td>1401</td>\n",
              "      <td>Pozo Almonte</td>\n",
              "      <td>POZO ALMONTE</td>\n",
              "    </tr>\n",
              "    <tr>\n",
              "      <th>3</th>\n",
              "      <td>1</td>\n",
              "      <td>Tarapacá</td>\n",
              "      <td>TPCA</td>\n",
              "      <td>14</td>\n",
              "      <td>Tamarugal</td>\n",
              "      <td>1402</td>\n",
              "      <td>Camiña</td>\n",
              "      <td>CAMIÑA</td>\n",
              "    </tr>\n",
              "    <tr>\n",
              "      <th>4</th>\n",
              "      <td>1</td>\n",
              "      <td>Tarapacá</td>\n",
              "      <td>TPCA</td>\n",
              "      <td>14</td>\n",
              "      <td>Tamarugal</td>\n",
              "      <td>1403</td>\n",
              "      <td>Colchane</td>\n",
              "      <td>COLCHANE</td>\n",
              "    </tr>\n",
              "  </tbody>\n",
              "</table>\n",
              "</div>"
            ],
            "text/plain": [
              "   Código Región Nombre Región Abreviatura Región  Código Provincia  \\\n",
              "0              1      Tarapacá               TPCA                11   \n",
              "1              1      Tarapacá               TPCA                11   \n",
              "2              1      Tarapacá               TPCA                14   \n",
              "3              1      Tarapacá               TPCA                14   \n",
              "4              1      Tarapacá               TPCA                14   \n",
              "\n",
              "  Nombre Provincia  Código Comuna 2018  Nombre Comuna         Comuna  \n",
              "0          Iquique                1101        Iquique        IQUIQUE  \n",
              "1          Iquique                1107  Alto Hospicio  ALTO HOSPICIO  \n",
              "2        Tamarugal                1401   Pozo Almonte   POZO ALMONTE  \n",
              "3        Tamarugal                1402         Camiña         CAMIÑA  \n",
              "4        Tamarugal                1403       Colchane       COLCHANE  "
            ]
          },
          "execution_count": 65,
          "metadata": {},
          "output_type": "execute_result"
        }
      ],
      "source": [
        "BASE_CUT.head()"
      ]
    },
    {
      "cell_type": "code",
      "execution_count": null,
      "metadata": {
        "id": "lSJRqIPyInZR"
      },
      "outputs": [],
      "source": [
        "cut_union = BASE_CUT[['Código Comuna 2018', 'Comuna']]"
      ]
    },
    {
      "cell_type": "code",
      "execution_count": null,
      "metadata": {
        "id": "hRqQo5luInZR"
      },
      "outputs": [],
      "source": [
        "# Quitamos las letras con tildes para compatibilizar la unión\n",
        "mapa_tildes = {\n",
        "    'á': 'a',\n",
        "    'é': 'e',\n",
        "    'í': 'i',\n",
        "    'ó': 'o',\n",
        "    'ú': 'u',\n",
        "    'Á': 'A',\n",
        "    'É': 'E',\n",
        "    'Í': 'I',\n",
        "    'Ó': 'O',\n",
        "    'Ú': 'U'\n",
        "}\n",
        "\n",
        "def reemplazar_tildes(s):\n",
        "    for acentuada, sin_acento in mapa_tildes.items():\n",
        "        s = s.replace(acentuada, sin_acento)\n",
        "    return s"
      ]
    },
    {
      "cell_type": "code",
      "execution_count": null,
      "metadata": {
        "id": "MmvNFQ6MInZS",
        "outputId": "8effdc95-5241-48ce-c820-874888434e05"
      },
      "outputs": [
        {
          "name": "stderr",
          "output_type": "stream",
          "text": [
            "C:\\Users\\benja\\AppData\\Local\\Temp\\ipykernel_15816\\1195319185.py:1: SettingWithCopyWarning: \n",
            "A value is trying to be set on a copy of a slice from a DataFrame.\n",
            "Try using .loc[row_indexer,col_indexer] = value instead\n",
            "\n",
            "See the caveats in the documentation: https://pandas.pydata.org/pandas-docs/stable/user_guide/indexing.html#returning-a-view-versus-a-copy\n",
            "  cut_union['Comuna'] = cut_union['Comuna'].apply(reemplazar_tildes)\n"
          ]
        }
      ],
      "source": [
        "cut_union['Comuna'] = cut_union['Comuna'].apply(reemplazar_tildes)"
      ]
    },
    {
      "cell_type": "code",
      "execution_count": null,
      "metadata": {
        "id": "0FJ0t78fInZS"
      },
      "outputs": [],
      "source": [
        "# Unimos el dataset de votos con el del CUT, para unirlo así a los del censo\n",
        "votos_cut = pd.merge(voto_wide, cut_union, how='left')"
      ]
    },
    {
      "cell_type": "code",
      "execution_count": null,
      "metadata": {
        "id": "pcMmp5X4InZS",
        "outputId": "94ab6e41-953b-4256-d81b-d9385933811b"
      },
      "outputs": [
        {
          "data": {
            "text/html": [
              "<div>\n",
              "<style scoped>\n",
              "    .dataframe tbody tr th:only-of-type {\n",
              "        vertical-align: middle;\n",
              "    }\n",
              "\n",
              "    .dataframe tbody tr th {\n",
              "        vertical-align: top;\n",
              "    }\n",
              "\n",
              "    .dataframe thead th {\n",
              "        text-align: right;\n",
              "    }\n",
              "</style>\n",
              "<table border=\"1\" class=\"dataframe\">\n",
              "  <thead>\n",
              "    <tr style=\"text-align: right;\">\n",
              "      <th></th>\n",
              "      <th>Comuna</th>\n",
              "      <th>Artés</th>\n",
              "      <th>Boric</th>\n",
              "      <th>Kast</th>\n",
              "      <th>MEO</th>\n",
              "      <th>Parisi</th>\n",
              "      <th>Provoste</th>\n",
              "      <th>Sichel</th>\n",
              "      <th>Código Comuna 2018</th>\n",
              "    </tr>\n",
              "  </thead>\n",
              "  <tbody>\n",
              "    <tr>\n",
              "      <th>0</th>\n",
              "      <td>ALGARROBO</td>\n",
              "      <td>0.011038</td>\n",
              "      <td>0.242580</td>\n",
              "      <td>0.352833</td>\n",
              "      <td>0.057886</td>\n",
              "      <td>0.069659</td>\n",
              "      <td>0.100196</td>\n",
              "      <td>0.165808</td>\n",
              "      <td>5602</td>\n",
              "    </tr>\n",
              "    <tr>\n",
              "      <th>1</th>\n",
              "      <td>ALHUE</td>\n",
              "      <td>0.012515</td>\n",
              "      <td>0.256762</td>\n",
              "      <td>0.188535</td>\n",
              "      <td>0.060961</td>\n",
              "      <td>0.142107</td>\n",
              "      <td>0.209931</td>\n",
              "      <td>0.129189</td>\n",
              "      <td>13502</td>\n",
              "    </tr>\n",
              "    <tr>\n",
              "      <th>2</th>\n",
              "      <td>ALTO BIOBIO</td>\n",
              "      <td>0.021657</td>\n",
              "      <td>0.204115</td>\n",
              "      <td>0.271792</td>\n",
              "      <td>0.064429</td>\n",
              "      <td>0.138062</td>\n",
              "      <td>0.216026</td>\n",
              "      <td>0.083920</td>\n",
              "      <td>8314</td>\n",
              "    </tr>\n",
              "    <tr>\n",
              "      <th>3</th>\n",
              "      <td>ALTO DEL CARMEN</td>\n",
              "      <td>0.005685</td>\n",
              "      <td>0.134367</td>\n",
              "      <td>0.136951</td>\n",
              "      <td>0.028941</td>\n",
              "      <td>0.188630</td>\n",
              "      <td>0.460465</td>\n",
              "      <td>0.044961</td>\n",
              "      <td>3302</td>\n",
              "    </tr>\n",
              "    <tr>\n",
              "      <th>4</th>\n",
              "      <td>ALTO HOSPICIO</td>\n",
              "      <td>0.010811</td>\n",
              "      <td>0.130848</td>\n",
              "      <td>0.240895</td>\n",
              "      <td>0.070377</td>\n",
              "      <td>0.406314</td>\n",
              "      <td>0.090932</td>\n",
              "      <td>0.049823</td>\n",
              "      <td>1107</td>\n",
              "    </tr>\n",
              "  </tbody>\n",
              "</table>\n",
              "</div>"
            ],
            "text/plain": [
              "            Comuna     Artés     Boric      Kast       MEO    Parisi  \\\n",
              "0        ALGARROBO  0.011038  0.242580  0.352833  0.057886  0.069659   \n",
              "1            ALHUE  0.012515  0.256762  0.188535  0.060961  0.142107   \n",
              "2      ALTO BIOBIO  0.021657  0.204115  0.271792  0.064429  0.138062   \n",
              "3  ALTO DEL CARMEN  0.005685  0.134367  0.136951  0.028941  0.188630   \n",
              "4    ALTO HOSPICIO  0.010811  0.130848  0.240895  0.070377  0.406314   \n",
              "\n",
              "   Provoste    Sichel  Código Comuna 2018  \n",
              "0  0.100196  0.165808                5602  \n",
              "1  0.209931  0.129189               13502  \n",
              "2  0.216026  0.083920                8314  \n",
              "3  0.460465  0.044961                3302  \n",
              "4  0.090932  0.049823                1107  "
            ]
          },
          "execution_count": 70,
          "metadata": {},
          "output_type": "execute_result"
        }
      ],
      "source": [
        "votos_cut.head()"
      ]
    },
    {
      "cell_type": "code",
      "execution_count": null,
      "metadata": {
        "id": "OH9uIkqYInZS",
        "outputId": "3f0c431e-e929-4798-8925-8f9ebc35c70e"
      },
      "outputs": [
        {
          "name": "stdout",
          "output_type": "stream",
          "text": [
            "<class 'pandas.core.frame.DataFrame'>\n",
            "Int64Index: 346 entries, 0 to 345\n",
            "Data columns (total 9 columns):\n",
            " #   Column              Non-Null Count  Dtype  \n",
            "---  ------              --------------  -----  \n",
            " 0   Comuna              346 non-null    object \n",
            " 1   Artés               346 non-null    float64\n",
            " 2   Boric               346 non-null    float64\n",
            " 3   Kast                346 non-null    float64\n",
            " 4   MEO                 346 non-null    float64\n",
            " 5   Parisi              346 non-null    float64\n",
            " 6   Provoste            346 non-null    float64\n",
            " 7   Sichel              346 non-null    float64\n",
            " 8   Código Comuna 2018  346 non-null    int64  \n",
            "dtypes: float64(7), int64(1), object(1)\n",
            "memory usage: 27.0+ KB\n"
          ]
        }
      ],
      "source": [
        "votos_cut.info()"
      ]
    },
    {
      "cell_type": "code",
      "execution_count": null,
      "metadata": {
        "id": "YIVjaa6FInZT"
      },
      "outputs": [],
      "source": [
        "votos_cut = votos_cut.rename({'Código Comuna 2018':'COMUNA'})"
      ]
    },
    {
      "cell_type": "code",
      "execution_count": null,
      "metadata": {
        "id": "TqPLmHjqInZT"
      },
      "outputs": [],
      "source": [
        "# Unimos el dataset de votos con el dataset del censo\n",
        "Censo_votos = pd.merge(censo_union, votos_cut, how='left', left_on= 'COMUNA', right_on='Código Comuna 2018')"
      ]
    },
    {
      "cell_type": "code",
      "execution_count": null,
      "metadata": {
        "id": "fA0szDT7InZT",
        "outputId": "6bdcce74-73e9-408c-ae5a-8d9db2b56e97"
      },
      "outputs": [
        {
          "data": {
            "text/html": [
              "<div>\n",
              "<style scoped>\n",
              "    .dataframe tbody tr th:only-of-type {\n",
              "        vertical-align: middle;\n",
              "    }\n",
              "\n",
              "    .dataframe tbody tr th {\n",
              "        vertical-align: top;\n",
              "    }\n",
              "\n",
              "    .dataframe thead th {\n",
              "        text-align: right;\n",
              "    }\n",
              "</style>\n",
              "<table border=\"1\" class=\"dataframe\">\n",
              "  <thead>\n",
              "    <tr style=\"text-align: right;\">\n",
              "      <th></th>\n",
              "      <th>COMUNA</th>\n",
              "      <th>P08</th>\n",
              "      <th>P09</th>\n",
              "      <th>hom</th>\n",
              "      <th>esc_rec</th>\n",
              "      <th>Comuna</th>\n",
              "      <th>Artés</th>\n",
              "      <th>Boric</th>\n",
              "      <th>Kast</th>\n",
              "      <th>MEO</th>\n",
              "      <th>Parisi</th>\n",
              "      <th>Provoste</th>\n",
              "      <th>Sichel</th>\n",
              "      <th>Código Comuna 2018</th>\n",
              "    </tr>\n",
              "  </thead>\n",
              "  <tbody>\n",
              "    <tr>\n",
              "      <th>0</th>\n",
              "      <td>1101</td>\n",
              "      <td>1.510386</td>\n",
              "      <td>43.077209</td>\n",
              "      <td>0.489614</td>\n",
              "      <td>12.206611</td>\n",
              "      <td>IQUIQUE</td>\n",
              "      <td>0.013232</td>\n",
              "      <td>0.210974</td>\n",
              "      <td>0.326920</td>\n",
              "      <td>0.063546</td>\n",
              "      <td>0.214241</td>\n",
              "      <td>0.081862</td>\n",
              "      <td>0.089224</td>\n",
              "      <td>1101</td>\n",
              "    </tr>\n",
              "    <tr>\n",
              "      <th>1</th>\n",
              "      <td>1107</td>\n",
              "      <td>1.505972</td>\n",
              "      <td>39.236018</td>\n",
              "      <td>0.494028</td>\n",
              "      <td>10.566225</td>\n",
              "      <td>ALTO HOSPICIO</td>\n",
              "      <td>0.010811</td>\n",
              "      <td>0.130848</td>\n",
              "      <td>0.240895</td>\n",
              "      <td>0.070377</td>\n",
              "      <td>0.406314</td>\n",
              "      <td>0.090932</td>\n",
              "      <td>0.049823</td>\n",
              "      <td>1107</td>\n",
              "    </tr>\n",
              "    <tr>\n",
              "      <th>2</th>\n",
              "      <td>1401</td>\n",
              "      <td>1.400526</td>\n",
              "      <td>41.179667</td>\n",
              "      <td>0.599474</td>\n",
              "      <td>10.756886</td>\n",
              "      <td>POZO ALMONTE</td>\n",
              "      <td>0.011417</td>\n",
              "      <td>0.107087</td>\n",
              "      <td>0.248031</td>\n",
              "      <td>0.054331</td>\n",
              "      <td>0.403346</td>\n",
              "      <td>0.130709</td>\n",
              "      <td>0.045079</td>\n",
              "      <td>1401</td>\n",
              "    </tr>\n",
              "    <tr>\n",
              "      <th>3</th>\n",
              "      <td>1402</td>\n",
              "      <td>1.461957</td>\n",
              "      <td>47.606522</td>\n",
              "      <td>0.538043</td>\n",
              "      <td>8.372503</td>\n",
              "      <td>CAMIÑA</td>\n",
              "      <td>0.003452</td>\n",
              "      <td>0.069045</td>\n",
              "      <td>0.441887</td>\n",
              "      <td>0.018412</td>\n",
              "      <td>0.377445</td>\n",
              "      <td>0.054085</td>\n",
              "      <td>0.035673</td>\n",
              "      <td>1402</td>\n",
              "    </tr>\n",
              "    <tr>\n",
              "      <th>4</th>\n",
              "      <td>1403</td>\n",
              "      <td>1.414306</td>\n",
              "      <td>43.290368</td>\n",
              "      <td>0.585694</td>\n",
              "      <td>8.653282</td>\n",
              "      <td>COLCHANE</td>\n",
              "      <td>0.004415</td>\n",
              "      <td>0.018764</td>\n",
              "      <td>0.462472</td>\n",
              "      <td>0.005519</td>\n",
              "      <td>0.477925</td>\n",
              "      <td>0.019868</td>\n",
              "      <td>0.011038</td>\n",
              "      <td>1403</td>\n",
              "    </tr>\n",
              "    <tr>\n",
              "      <th>...</th>\n",
              "      <td>...</td>\n",
              "      <td>...</td>\n",
              "      <td>...</td>\n",
              "      <td>...</td>\n",
              "      <td>...</td>\n",
              "      <td>...</td>\n",
              "      <td>...</td>\n",
              "      <td>...</td>\n",
              "      <td>...</td>\n",
              "      <td>...</td>\n",
              "      <td>...</td>\n",
              "      <td>...</td>\n",
              "      <td>...</td>\n",
              "      <td>...</td>\n",
              "    </tr>\n",
              "    <tr>\n",
              "      <th>341</th>\n",
              "      <td>16301</td>\n",
              "      <td>1.529069</td>\n",
              "      <td>47.106970</td>\n",
              "      <td>0.470931</td>\n",
              "      <td>9.480996</td>\n",
              "      <td>SAN CARLOS</td>\n",
              "      <td>0.008276</td>\n",
              "      <td>0.161209</td>\n",
              "      <td>0.406827</td>\n",
              "      <td>0.048476</td>\n",
              "      <td>0.120650</td>\n",
              "      <td>0.130674</td>\n",
              "      <td>0.123888</td>\n",
              "      <td>16301</td>\n",
              "    </tr>\n",
              "    <tr>\n",
              "      <th>342</th>\n",
              "      <td>16302</td>\n",
              "      <td>1.503693</td>\n",
              "      <td>45.255440</td>\n",
              "      <td>0.496307</td>\n",
              "      <td>8.825410</td>\n",
              "      <td>COIHUECO</td>\n",
              "      <td>0.009094</td>\n",
              "      <td>0.107035</td>\n",
              "      <td>0.464618</td>\n",
              "      <td>0.048500</td>\n",
              "      <td>0.104212</td>\n",
              "      <td>0.139020</td>\n",
              "      <td>0.127522</td>\n",
              "      <td>16302</td>\n",
              "    </tr>\n",
              "    <tr>\n",
              "      <th>343</th>\n",
              "      <td>16303</td>\n",
              "      <td>1.499023</td>\n",
              "      <td>50.248132</td>\n",
              "      <td>0.500977</td>\n",
              "      <td>8.133293</td>\n",
              "      <td>ÑIQUEN</td>\n",
              "      <td>0.007564</td>\n",
              "      <td>0.114761</td>\n",
              "      <td>0.432246</td>\n",
              "      <td>0.065053</td>\n",
              "      <td>0.111952</td>\n",
              "      <td>0.136590</td>\n",
              "      <td>0.131835</td>\n",
              "      <td>16303</td>\n",
              "    </tr>\n",
              "    <tr>\n",
              "      <th>344</th>\n",
              "      <td>16304</td>\n",
              "      <td>1.492063</td>\n",
              "      <td>48.069482</td>\n",
              "      <td>0.507937</td>\n",
              "      <td>8.798042</td>\n",
              "      <td>SAN FABIAN</td>\n",
              "      <td>0.006111</td>\n",
              "      <td>0.171977</td>\n",
              "      <td>0.351375</td>\n",
              "      <td>0.042340</td>\n",
              "      <td>0.122654</td>\n",
              "      <td>0.171104</td>\n",
              "      <td>0.134439</td>\n",
              "      <td>16304</td>\n",
              "    </tr>\n",
              "    <tr>\n",
              "      <th>345</th>\n",
              "      <td>16305</td>\n",
              "      <td>1.507755</td>\n",
              "      <td>47.846932</td>\n",
              "      <td>0.492245</td>\n",
              "      <td>8.846519</td>\n",
              "      <td>SAN NICOLAS</td>\n",
              "      <td>0.008833</td>\n",
              "      <td>0.147529</td>\n",
              "      <td>0.347491</td>\n",
              "      <td>0.075738</td>\n",
              "      <td>0.129863</td>\n",
              "      <td>0.170269</td>\n",
              "      <td>0.120278</td>\n",
              "      <td>16305</td>\n",
              "    </tr>\n",
              "  </tbody>\n",
              "</table>\n",
              "<p>346 rows × 14 columns</p>\n",
              "</div>"
            ],
            "text/plain": [
              "     COMUNA       P08        P09       hom    esc_rec         Comuna  \\\n",
              "0      1101  1.510386  43.077209  0.489614  12.206611        IQUIQUE   \n",
              "1      1107  1.505972  39.236018  0.494028  10.566225  ALTO HOSPICIO   \n",
              "2      1401  1.400526  41.179667  0.599474  10.756886   POZO ALMONTE   \n",
              "3      1402  1.461957  47.606522  0.538043   8.372503         CAMIÑA   \n",
              "4      1403  1.414306  43.290368  0.585694   8.653282       COLCHANE   \n",
              "..      ...       ...        ...       ...        ...            ...   \n",
              "341   16301  1.529069  47.106970  0.470931   9.480996     SAN CARLOS   \n",
              "342   16302  1.503693  45.255440  0.496307   8.825410       COIHUECO   \n",
              "343   16303  1.499023  50.248132  0.500977   8.133293         ÑIQUEN   \n",
              "344   16304  1.492063  48.069482  0.507937   8.798042     SAN FABIAN   \n",
              "345   16305  1.507755  47.846932  0.492245   8.846519    SAN NICOLAS   \n",
              "\n",
              "        Artés     Boric      Kast       MEO    Parisi  Provoste    Sichel  \\\n",
              "0    0.013232  0.210974  0.326920  0.063546  0.214241  0.081862  0.089224   \n",
              "1    0.010811  0.130848  0.240895  0.070377  0.406314  0.090932  0.049823   \n",
              "2    0.011417  0.107087  0.248031  0.054331  0.403346  0.130709  0.045079   \n",
              "3    0.003452  0.069045  0.441887  0.018412  0.377445  0.054085  0.035673   \n",
              "4    0.004415  0.018764  0.462472  0.005519  0.477925  0.019868  0.011038   \n",
              "..        ...       ...       ...       ...       ...       ...       ...   \n",
              "341  0.008276  0.161209  0.406827  0.048476  0.120650  0.130674  0.123888   \n",
              "342  0.009094  0.107035  0.464618  0.048500  0.104212  0.139020  0.127522   \n",
              "343  0.007564  0.114761  0.432246  0.065053  0.111952  0.136590  0.131835   \n",
              "344  0.006111  0.171977  0.351375  0.042340  0.122654  0.171104  0.134439   \n",
              "345  0.008833  0.147529  0.347491  0.075738  0.129863  0.170269  0.120278   \n",
              "\n",
              "     Código Comuna 2018  \n",
              "0                  1101  \n",
              "1                  1107  \n",
              "2                  1401  \n",
              "3                  1402  \n",
              "4                  1403  \n",
              "..                  ...  \n",
              "341               16301  \n",
              "342               16302  \n",
              "343               16303  \n",
              "344               16304  \n",
              "345               16305  \n",
              "\n",
              "[346 rows x 14 columns]"
            ]
          },
          "execution_count": 74,
          "metadata": {},
          "output_type": "execute_result"
        }
      ],
      "source": [
        "Censo_votos"
      ]
    },
    {
      "cell_type": "code",
      "execution_count": null,
      "metadata": {
        "id": "D0wpx1hrInZT"
      },
      "outputs": [],
      "source": [
        "#Seleccionamos las variables para la correlación, dejando fuera los identificadores de comuna y la variable sexo\n",
        "#El sexo queda representado por el porcentaje de población masculina.\n",
        "base_corr = Censo_votos.drop(columns=['Comuna', 'COMUNA', 'Código Comuna 2018', 'P08'])"
      ]
    },
    {
      "cell_type": "code",
      "execution_count": null,
      "metadata": {
        "id": "SqhzWQQqInZT"
      },
      "outputs": [],
      "source": [
        "# Creamos la matriz de correlaciones\n",
        "corr_final = base_corr.corr()"
      ]
    },
    {
      "cell_type": "code",
      "execution_count": null,
      "metadata": {
        "id": "zTFP4IApInZU",
        "outputId": "48ddae1a-7f02-4905-e51c-8660f0c5a7e2"
      },
      "outputs": [
        {
          "data": {
            "text/html": [
              "<div>\n",
              "<style scoped>\n",
              "    .dataframe tbody tr th:only-of-type {\n",
              "        vertical-align: middle;\n",
              "    }\n",
              "\n",
              "    .dataframe tbody tr th {\n",
              "        vertical-align: top;\n",
              "    }\n",
              "\n",
              "    .dataframe thead th {\n",
              "        text-align: right;\n",
              "    }\n",
              "</style>\n",
              "<table border=\"1\" class=\"dataframe\">\n",
              "  <thead>\n",
              "    <tr style=\"text-align: right;\">\n",
              "      <th></th>\n",
              "      <th>P09</th>\n",
              "      <th>hom</th>\n",
              "      <th>esc_rec</th>\n",
              "      <th>Artés</th>\n",
              "      <th>Boric</th>\n",
              "      <th>Kast</th>\n",
              "      <th>MEO</th>\n",
              "      <th>Parisi</th>\n",
              "      <th>Provoste</th>\n",
              "      <th>Sichel</th>\n",
              "    </tr>\n",
              "  </thead>\n",
              "  <tbody>\n",
              "    <tr>\n",
              "      <th>P09</th>\n",
              "      <td>1.000000</td>\n",
              "      <td>-0.354436</td>\n",
              "      <td>-0.609429</td>\n",
              "      <td>-0.219973</td>\n",
              "      <td>-0.262077</td>\n",
              "      <td>0.195855</td>\n",
              "      <td>-0.290705</td>\n",
              "      <td>-0.283760</td>\n",
              "      <td>0.410749</td>\n",
              "      <td>0.214293</td>\n",
              "    </tr>\n",
              "    <tr>\n",
              "      <th>hom</th>\n",
              "      <td>-0.354436</td>\n",
              "      <td>1.000000</td>\n",
              "      <td>0.112497</td>\n",
              "      <td>-0.183681</td>\n",
              "      <td>-0.154742</td>\n",
              "      <td>0.065501</td>\n",
              "      <td>0.045736</td>\n",
              "      <td>0.238978</td>\n",
              "      <td>-0.077186</td>\n",
              "      <td>-0.266691</td>\n",
              "    </tr>\n",
              "    <tr>\n",
              "      <th>esc_rec</th>\n",
              "      <td>-0.609429</td>\n",
              "      <td>0.112497</td>\n",
              "      <td>1.000000</td>\n",
              "      <td>0.191199</td>\n",
              "      <td>0.459613</td>\n",
              "      <td>-0.197653</td>\n",
              "      <td>0.215877</td>\n",
              "      <td>-0.040778</td>\n",
              "      <td>-0.495271</td>\n",
              "      <td>0.251100</td>\n",
              "    </tr>\n",
              "    <tr>\n",
              "      <th>Artés</th>\n",
              "      <td>-0.219973</td>\n",
              "      <td>-0.183681</td>\n",
              "      <td>0.191199</td>\n",
              "      <td>1.000000</td>\n",
              "      <td>0.691962</td>\n",
              "      <td>-0.504159</td>\n",
              "      <td>0.547344</td>\n",
              "      <td>-0.097771</td>\n",
              "      <td>-0.102047</td>\n",
              "      <td>-0.123895</td>\n",
              "    </tr>\n",
              "    <tr>\n",
              "      <th>Boric</th>\n",
              "      <td>-0.262077</td>\n",
              "      <td>-0.154742</td>\n",
              "      <td>0.459613</td>\n",
              "      <td>0.691962</td>\n",
              "      <td>1.000000</td>\n",
              "      <td>-0.625018</td>\n",
              "      <td>0.567223</td>\n",
              "      <td>-0.286290</td>\n",
              "      <td>-0.170838</td>\n",
              "      <td>0.121670</td>\n",
              "    </tr>\n",
              "    <tr>\n",
              "      <th>Kast</th>\n",
              "      <td>0.195855</td>\n",
              "      <td>0.065501</td>\n",
              "      <td>-0.197653</td>\n",
              "      <td>-0.504159</td>\n",
              "      <td>-0.625018</td>\n",
              "      <td>1.000000</td>\n",
              "      <td>-0.521010</td>\n",
              "      <td>-0.352763</td>\n",
              "      <td>-0.249660</td>\n",
              "      <td>0.093755</td>\n",
              "    </tr>\n",
              "    <tr>\n",
              "      <th>MEO</th>\n",
              "      <td>-0.290705</td>\n",
              "      <td>0.045736</td>\n",
              "      <td>0.215877</td>\n",
              "      <td>0.547344</td>\n",
              "      <td>0.567223</td>\n",
              "      <td>-0.521010</td>\n",
              "      <td>1.000000</td>\n",
              "      <td>0.008346</td>\n",
              "      <td>-0.272778</td>\n",
              "      <td>-0.078218</td>\n",
              "    </tr>\n",
              "    <tr>\n",
              "      <th>Parisi</th>\n",
              "      <td>-0.283760</td>\n",
              "      <td>0.238978</td>\n",
              "      <td>-0.040778</td>\n",
              "      <td>-0.097771</td>\n",
              "      <td>-0.286290</td>\n",
              "      <td>-0.352763</td>\n",
              "      <td>0.008346</td>\n",
              "      <td>1.000000</td>\n",
              "      <td>-0.035411</td>\n",
              "      <td>-0.583908</td>\n",
              "    </tr>\n",
              "    <tr>\n",
              "      <th>Provoste</th>\n",
              "      <td>0.410749</td>\n",
              "      <td>-0.077186</td>\n",
              "      <td>-0.495271</td>\n",
              "      <td>-0.102047</td>\n",
              "      <td>-0.170838</td>\n",
              "      <td>-0.249660</td>\n",
              "      <td>-0.272778</td>\n",
              "      <td>-0.035411</td>\n",
              "      <td>1.000000</td>\n",
              "      <td>-0.164741</td>\n",
              "    </tr>\n",
              "    <tr>\n",
              "      <th>Sichel</th>\n",
              "      <td>0.214293</td>\n",
              "      <td>-0.266691</td>\n",
              "      <td>0.251100</td>\n",
              "      <td>-0.123895</td>\n",
              "      <td>0.121670</td>\n",
              "      <td>0.093755</td>\n",
              "      <td>-0.078218</td>\n",
              "      <td>-0.583908</td>\n",
              "      <td>-0.164741</td>\n",
              "      <td>1.000000</td>\n",
              "    </tr>\n",
              "  </tbody>\n",
              "</table>\n",
              "</div>"
            ],
            "text/plain": [
              "               P09       hom   esc_rec     Artés     Boric      Kast  \\\n",
              "P09       1.000000 -0.354436 -0.609429 -0.219973 -0.262077  0.195855   \n",
              "hom      -0.354436  1.000000  0.112497 -0.183681 -0.154742  0.065501   \n",
              "esc_rec  -0.609429  0.112497  1.000000  0.191199  0.459613 -0.197653   \n",
              "Artés    -0.219973 -0.183681  0.191199  1.000000  0.691962 -0.504159   \n",
              "Boric    -0.262077 -0.154742  0.459613  0.691962  1.000000 -0.625018   \n",
              "Kast      0.195855  0.065501 -0.197653 -0.504159 -0.625018  1.000000   \n",
              "MEO      -0.290705  0.045736  0.215877  0.547344  0.567223 -0.521010   \n",
              "Parisi   -0.283760  0.238978 -0.040778 -0.097771 -0.286290 -0.352763   \n",
              "Provoste  0.410749 -0.077186 -0.495271 -0.102047 -0.170838 -0.249660   \n",
              "Sichel    0.214293 -0.266691  0.251100 -0.123895  0.121670  0.093755   \n",
              "\n",
              "               MEO    Parisi  Provoste    Sichel  \n",
              "P09      -0.290705 -0.283760  0.410749  0.214293  \n",
              "hom       0.045736  0.238978 -0.077186 -0.266691  \n",
              "esc_rec   0.215877 -0.040778 -0.495271  0.251100  \n",
              "Artés     0.547344 -0.097771 -0.102047 -0.123895  \n",
              "Boric     0.567223 -0.286290 -0.170838  0.121670  \n",
              "Kast     -0.521010 -0.352763 -0.249660  0.093755  \n",
              "MEO       1.000000  0.008346 -0.272778 -0.078218  \n",
              "Parisi    0.008346  1.000000 -0.035411 -0.583908  \n",
              "Provoste -0.272778 -0.035411  1.000000 -0.164741  \n",
              "Sichel   -0.078218 -0.583908 -0.164741  1.000000  "
            ]
          },
          "execution_count": 81,
          "metadata": {},
          "output_type": "execute_result"
        }
      ],
      "source": [
        "corr_final"
      ]
    },
    {
      "cell_type": "code",
      "execution_count": null,
      "metadata": {
        "id": "rEdnBAciInZU",
        "outputId": "fe80ec73-802b-414a-8d65-ab71d13ce1ec"
      },
      "outputs": [
        {
          "data": {
            "image/png": "[encoded data removed]",
            "text/plain": [
              "<Figure size 640x480 with 2 Axes>"
            ]
          },
          "metadata": {},
          "output_type": "display_data"
        }
      ],
      "source": [
        "\n",
        "sns.heatmap(corr_final, cmap='coolwarm')\n",
        "plt.show()"
      ]
    }
  ],
  "metadata": {
    "kernelspec": {
      "display_name": "base",
      "language": "python",
      "name": "python3"
    },
    "language_info": {
      "codemirror_mode": {
        "name": "ipython",
        "version": 3
      },
      "file_extension": ".py",
      "mimetype": "text/x-python",
      "name": "python",
      "nbconvert_exporter": "python",
      "pygments_lexer": "ipython3",
      "version": "3.9.19"
    },
    "colab": {
      "provenance": []
    }
  },
  "nbformat": 4,
  "nbformat_minor": 0
}